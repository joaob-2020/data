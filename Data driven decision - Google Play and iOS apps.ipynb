{
 "cells": [
  {
   "cell_type": "markdown",
   "id": "0cf71521",
   "metadata": {},
   "source": [
    "# Data driven decision making for app develop"
   ]
  },
  {
   "cell_type": "markdown",
   "id": "42a6e51d",
   "metadata": {},
   "source": [
    "### The company builds Android and IOS free mobile apps. The revenue comes from internal ads. The more users of those apps, more profit the company makes.\n",
    "\n",
    "### The aim of this work is by analysing profitable apps in Google play market and IOS store to determine which kind of apps attract more people. \n",
    "\n",
    "### iOS dataset: https://www.kaggle.com/ramamet4/app-store-apple-data-set-10k-apps\n",
    "### Google play dataset: https://www.kaggle.com/lava18/google-play-store-apps"
   ]
  },
  {
   "cell_type": "code",
   "execution_count": 18,
   "id": "2b2e5d13",
   "metadata": {},
   "outputs": [],
   "source": [
    "from csv import reader\n",
    "\n",
    "ios_open = open(\"C://Users//johng//Desktop//data//AppleStore.csv\", encoding='utf8')\n",
    "ios_read = reader(ios_open)\n",
    "ios_apps_data = list(ios_read)\n",
    "\n",
    "play_open = open(\"C://Users//johng//Desktop//data//googleplaystore.csv\", encoding='utf8')\n",
    "play_read = reader(play_open)\n",
    "play_apps_data = list(play_read)\n"
   ]
  },
  {
   "cell_type": "markdown",
   "id": "42043535",
   "metadata": {},
   "source": [
    "#### Function to read data "
   ]
  },
  {
   "cell_type": "code",
   "execution_count": 17,
   "id": "17ceb864",
   "metadata": {},
   "outputs": [
    {
     "name": "stdout",
     "output_type": "stream",
     "text": [
      "['id', 'track_name', 'size_bytes', 'currency', 'price', 'rating_count_tot', 'rating_count_ver', 'user_rating', 'user_rating_ver', 'ver', 'cont_rating', 'prime_genre', 'sup_devices.num', 'ipadSc_urls.num', 'lang.num', 'vpp_lic']\n",
      "\n",
      "\n",
      "['284882215', 'Facebook', '389879808', 'USD', '0.0', '2974676', '212', '3.5', '3.5', '95.0', '4+', 'Social Networking', '37', '1', '29', '1']\n",
      "\n",
      "\n",
      "['389801252', 'Instagram', '113954816', 'USD', '0.0', '2161558', '1289', '4.5', '4.0', '10.23', '12+', 'Photo & Video', '37', '0', '29', '1']\n",
      "\n",
      "\n",
      "['529479190', 'Clash of Clans', '116476928', 'USD', '0.0', '2130805', '579', '4.5', '4.5', '9.24.12', '9+', 'Games', '38', '5', '18', '1']\n",
      "\n",
      "\n",
      "Number of rows: 7198\n",
      "Number of columns: 16\n"
     ]
    }
   ],
   "source": [
    "def extract_data(dataset, start, end, header=False):\n",
    "    dataset_slice = dataset[start:end]\n",
    "    for row in dataset_slice:\n",
    "        print(row)\n",
    "        print('\\n')\n",
    "\n",
    "    if header:\n",
    "        print('Number of rows:', len(dataset))\n",
    "        print('Number of columns:', len(dataset[0]))\n",
    "\n",
    "extract_data(ios_apps_data, 0, 4, True)\n",
    "extract_data(play_apps)\n",
    "    "
   ]
  },
  {
   "cell_type": "code",
   "execution_count": null,
   "id": "c8463f5f",
   "metadata": {},
   "outputs": [],
   "source": []
  }
 ],
 "metadata": {
  "kernelspec": {
   "display_name": "Python 3 (ipykernel)",
   "language": "python",
   "name": "python3"
  },
  "language_info": {
   "codemirror_mode": {
    "name": "ipython",
    "version": 3
   },
   "file_extension": ".py",
   "mimetype": "text/x-python",
   "name": "python",
   "nbconvert_exporter": "python",
   "pygments_lexer": "ipython3",
   "version": "3.9.7"
  }
 },
 "nbformat": 4,
 "nbformat_minor": 5
}
