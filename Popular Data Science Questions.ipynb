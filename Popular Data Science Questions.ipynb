{
 "cells": [
  {
   "cell_type": "markdown",
   "id": "f7e7df6b",
   "metadata": {},
   "source": [
    "#### The objective of this project is to answer: What is it that people want to learn about in data science?\n",
    "To answer this we will use a website that has data science question and answers. The website is stack exchange.\n",
    "In here: https://data.stackexchange.com/datascience/query/new, we can do queries to explore the databases they have, like this one:\n",
    "\n",
    "SELECT Id,PostTypeId,CreationDate,Score,ViewCount,Tags,AnswerCount,FavoriteCount\n",
    "FROM Posts\n",
    "WHERE CreationDate LIKE '%2019%';"
   ]
  },
  {
   "cell_type": "code",
   "execution_count": 37,
   "id": "c864f215",
   "metadata": {},
   "outputs": [],
   "source": [
    "import pandas as pd\n",
    "import matplotlib.pyplot as plt\n",
    "%matplotlib inline\n",
    "import warnings\n",
    "warnings.filterwarnings(\"ignore\")\n",
    "import datetime as dt"
   ]
  },
  {
   "cell_type": "code",
   "execution_count": 2,
   "id": "033ecc23",
   "metadata": {},
   "outputs": [],
   "source": [
    "# read csv\n",
    "questions = pd.read_csv(\"C://Users//johng//Desktop//data//2019_questions.csv\", encoding='utf-8')"
   ]
  },
  {
   "cell_type": "code",
   "execution_count": 3,
   "id": "8341359b",
   "metadata": {},
   "outputs": [
    {
     "data": {
      "text/html": [
       "<div>\n",
       "<style scoped>\n",
       "    .dataframe tbody tr th:only-of-type {\n",
       "        vertical-align: middle;\n",
       "    }\n",
       "\n",
       "    .dataframe tbody tr th {\n",
       "        vertical-align: top;\n",
       "    }\n",
       "\n",
       "    .dataframe thead th {\n",
       "        text-align: right;\n",
       "    }\n",
       "</style>\n",
       "<table border=\"1\" class=\"dataframe\">\n",
       "  <thead>\n",
       "    <tr style=\"text-align: right;\">\n",
       "      <th></th>\n",
       "      <th>Id</th>\n",
       "      <th>PostTypeId</th>\n",
       "      <th>CreationDate</th>\n",
       "      <th>Score</th>\n",
       "      <th>ViewCount</th>\n",
       "      <th>Tags</th>\n",
       "      <th>AnswerCount</th>\n",
       "      <th>FavoriteCount</th>\n",
       "    </tr>\n",
       "  </thead>\n",
       "  <tbody>\n",
       "    <tr>\n",
       "      <th>0</th>\n",
       "      <td>53728</td>\n",
       "      <td>1</td>\n",
       "      <td>2019-06-13 17:23:56</td>\n",
       "      <td>1</td>\n",
       "      <td>45.0</td>\n",
       "      <td>&lt;python&gt;&lt;pandas&gt;&lt;data&gt;</td>\n",
       "      <td>1.0</td>\n",
       "      <td>1.0</td>\n",
       "    </tr>\n",
       "    <tr>\n",
       "      <th>1</th>\n",
       "      <td>53729</td>\n",
       "      <td>2</td>\n",
       "      <td>2019-06-13 17:31:39</td>\n",
       "      <td>0</td>\n",
       "      <td>NaN</td>\n",
       "      <td>NaN</td>\n",
       "      <td>NaN</td>\n",
       "      <td>NaN</td>\n",
       "    </tr>\n",
       "    <tr>\n",
       "      <th>2</th>\n",
       "      <td>53730</td>\n",
       "      <td>1</td>\n",
       "      <td>2019-06-13 17:37:57</td>\n",
       "      <td>1</td>\n",
       "      <td>91.0</td>\n",
       "      <td>&lt;machine-learning&gt;&lt;deep-learning&gt;&lt;random-fores...</td>\n",
       "      <td>2.0</td>\n",
       "      <td>1.0</td>\n",
       "    </tr>\n",
       "    <tr>\n",
       "      <th>3</th>\n",
       "      <td>53731</td>\n",
       "      <td>2</td>\n",
       "      <td>2019-06-13 17:40:13</td>\n",
       "      <td>4</td>\n",
       "      <td>NaN</td>\n",
       "      <td>NaN</td>\n",
       "      <td>NaN</td>\n",
       "      <td>NaN</td>\n",
       "    </tr>\n",
       "    <tr>\n",
       "      <th>4</th>\n",
       "      <td>53732</td>\n",
       "      <td>1</td>\n",
       "      <td>2019-06-13 17:49:40</td>\n",
       "      <td>0</td>\n",
       "      <td>45.0</td>\n",
       "      <td>&lt;multilabel-classification&gt;</td>\n",
       "      <td>1.0</td>\n",
       "      <td>NaN</td>\n",
       "    </tr>\n",
       "  </tbody>\n",
       "</table>\n",
       "</div>"
      ],
      "text/plain": [
       "      Id  PostTypeId         CreationDate  Score  ViewCount  \\\n",
       "0  53728           1  2019-06-13 17:23:56      1       45.0   \n",
       "1  53729           2  2019-06-13 17:31:39      0        NaN   \n",
       "2  53730           1  2019-06-13 17:37:57      1       91.0   \n",
       "3  53731           2  2019-06-13 17:40:13      4        NaN   \n",
       "4  53732           1  2019-06-13 17:49:40      0       45.0   \n",
       "\n",
       "                                                Tags  AnswerCount  \\\n",
       "0                             <python><pandas><data>          1.0   \n",
       "1                                                NaN          NaN   \n",
       "2  <machine-learning><deep-learning><random-fores...          2.0   \n",
       "3                                                NaN          NaN   \n",
       "4                        <multilabel-classification>          1.0   \n",
       "\n",
       "   FavoriteCount  \n",
       "0            1.0  \n",
       "1            NaN  \n",
       "2            1.0  \n",
       "3            NaN  \n",
       "4            NaN  "
      ]
     },
     "execution_count": 3,
     "metadata": {},
     "output_type": "execute_result"
    }
   ],
   "source": [
    "questions.head()"
   ]
  },
  {
   "cell_type": "code",
   "execution_count": 4,
   "id": "fa1fc0a2",
   "metadata": {},
   "outputs": [
    {
     "name": "stdout",
     "output_type": "stream",
     "text": [
      "<class 'pandas.core.frame.DataFrame'>\n",
      "RangeIndex: 14646 entries, 0 to 14645\n",
      "Data columns (total 8 columns):\n",
      " #   Column         Non-Null Count  Dtype  \n",
      "---  ------         --------------  -----  \n",
      " 0   Id             14646 non-null  int64  \n",
      " 1   PostTypeId     14646 non-null  int64  \n",
      " 2   CreationDate   14646 non-null  object \n",
      " 3   Score          14646 non-null  int64  \n",
      " 4   ViewCount      6758 non-null   float64\n",
      " 5   Tags           6758 non-null   object \n",
      " 6   AnswerCount    6758 non-null   float64\n",
      " 7   FavoriteCount  1730 non-null   float64\n",
      "dtypes: float64(3), int64(3), object(2)\n",
      "memory usage: 915.5+ KB\n"
     ]
    }
   ],
   "source": [
    "questions.info()"
   ]
  },
  {
   "cell_type": "code",
   "execution_count": 5,
   "id": "f3639d67",
   "metadata": {},
   "outputs": [
    {
     "data": {
      "text/plain": [
       "0                               [python, pandas, data]\n",
       "1                                                  NaN\n",
       "2    [machine-learning, deep-learning, random-fores...\n",
       "3                                                  NaN\n",
       "4                          [multilabel-classification]\n",
       "Name: Tags, dtype: object"
      ]
     },
     "execution_count": 5,
     "metadata": {},
     "output_type": "execute_result"
    }
   ],
   "source": [
    "#Clean the Tags column and assign it back to itself\n",
    "questions[\"Tags\"] = questions[\"Tags\"].str.replace(\"^<\",\"\").str.replace(\">$\",\"\").str.split(\"><\")\n",
    "questions[\"Tags\"].head()"
   ]
  },
  {
   "cell_type": "code",
   "execution_count": 6,
   "id": "0cee3d07",
   "metadata": {},
   "outputs": [],
   "source": [
    "#Fill the missing values with \"\"\n",
    "questions[\"Tags\"].fillna(\"\",inplace = True)"
   ]
  },
  {
   "cell_type": "code",
   "execution_count": 7,
   "id": "f7e4542b",
   "metadata": {},
   "outputs": [
    {
     "data": {
      "text/plain": [
       "0                                   [python, pandas, data]\n",
       "1                                                         \n",
       "2        [machine-learning, deep-learning, random-fores...\n",
       "3                                                         \n",
       "4                              [multilabel-classification]\n",
       "                               ...                        \n",
       "14641                                                     \n",
       "14642                                                     \n",
       "14643                                                     \n",
       "14644                                                     \n",
       "14645                                                     \n",
       "Name: Tags, Length: 14646, dtype: object"
      ]
     },
     "execution_count": 7,
     "metadata": {},
     "output_type": "execute_result"
    }
   ],
   "source": [
    "questions[\"Tags\"]"
   ]
  },
  {
   "cell_type": "code",
   "execution_count": 8,
   "id": "624cd175",
   "metadata": {},
   "outputs": [
    {
     "name": "stdout",
     "output_type": "stream",
     "text": [
      "<class 'pandas.core.frame.DataFrame'>\n",
      "Index: 20 entries, machine-learning to data-mining\n",
      "Data columns (total 1 columns):\n",
      " #   Column  Non-Null Count  Dtype\n",
      "---  ------  --------------  -----\n",
      " 0   counts  20 non-null     int64\n",
      "dtypes: int64(1)\n",
      "memory usage: 320.0+ bytes\n"
     ]
    }
   ],
   "source": [
    "#Count how many times each tag was used.\n",
    "tag_count = dict()\n",
    "for tags in questions[\"Tags\"]:\n",
    "    for tag in tags:\n",
    "        if tag in tag_count:\n",
    "            tag_count[tag] += 1\n",
    "        else:\n",
    "            tag_count[tag] = 1\n",
    "#converts dictionary into a DataFrame         \n",
    "tag_count_df = pd.DataFrame.from_dict(tag_count, orient = \"index\")\n",
    "tag_count_df.rename(columns = {0:\"counts\"}, inplace = True)\n",
    "tag_count_df.head()\n",
    "\n",
    "#sort values in ascending mode\n",
    "most_used_tags = tag_count_df.sort_values(\"counts\", ascending = False).head(20)\n",
    "most_used_tags.info()"
   ]
  },
  {
   "cell_type": "code",
   "execution_count": 9,
   "id": "59fb1358",
   "metadata": {},
   "outputs": [
    {
     "data": {
      "image/png": "[encoded data removed]",
      "text/plain": [
       "<Figure size 432x288 with 1 Axes>"
      ]
     },
     "metadata": {
      "needs_background": "light"
     },
     "output_type": "display_data"
    }
   ],
   "source": [
    "#Create visualization for most used tags\n",
    "ax = most_used_tags.plot.barh()\n",
    "ax.invert_yaxis()\n",
    "plt.show()"
   ]
  },
  {
   "cell_type": "code",
   "execution_count": 10,
   "id": "efa42d7f",
   "metadata": {},
   "outputs": [
    {
     "name": "stdout",
     "output_type": "stream",
     "text": [
      "<class 'pandas.core.frame.DataFrame'>\n",
      "Index: 20 entries, python to csv\n",
      "Data columns (total 1 columns):\n",
      " #   Column  Non-Null Count  Dtype  \n",
      "---  ------  --------------  -----  \n",
      " 0   views   20 non-null     float64\n",
      "dtypes: float64(1)\n",
      "memory usage: 320.0+ bytes\n"
     ]
    }
   ],
   "source": [
    "#Count how many times each tag was viewed\n",
    "tag_views = dict()\n",
    "for index, row in questions.iterrows():\n",
    "    for tag in row[\"Tags\"]:\n",
    "        if tag in tag_views:\n",
    "            tag_views[tag] += row[\"ViewCount\"]\n",
    "        else:\n",
    "            tag_views[tag] = row[\"ViewCount\"]\n",
    "\n",
    "#converts dictionary into a DataFrame         \n",
    "tag_views_df = pd.DataFrame.from_dict(tag_views, orient = \"index\")\n",
    "tag_views_df.rename(columns = {0:\"views\"}, inplace = True)\n",
    "tag_views_df.head()\n",
    "\n",
    "#sort values in ascending mode\n",
    "most_viewed_tags = tag_views_df.sort_values(\"views\", ascending = False ).head(20)\n",
    "most_viewed_tags.info()"
   ]
  },
  {
   "cell_type": "code",
   "execution_count": 11,
   "id": "97b475b6",
   "metadata": {},
   "outputs": [
    {
     "data": {
      "image/png": "[encoded data removed]",
      "text/plain": [
       "<Figure size 432x288 with 1 Axes>"
      ]
     },
     "metadata": {
      "needs_background": "light"
     },
     "output_type": "display_data"
    }
   ],
   "source": [
    "#Create visualization for most viewed tags\n",
    "ax2 = most_viewed_tags.plot.barh()\n",
    "ax2.invert_yaxis()\n",
    "plt.show()"
   ]
  },
  {
   "cell_type": "code",
   "execution_count": 12,
   "id": "5c155122",
   "metadata": {},
   "outputs": [],
   "source": [
    "# most used tag vs most viewed tag with the COUNT relevance (how=\"left\")\n",
    "in_used_left = pd.merge(most_used_tags, most_viewed_tags, how=\"left\", left_index=True, right_index=True)"
   ]
  },
  {
   "cell_type": "code",
   "execution_count": 13,
   "id": "c07ff191",
   "metadata": {},
   "outputs": [],
   "source": [
    "# most used tag vs most viewed tag with the MOSTVIEWED relevance (how=\"right\")?\n",
    "in_used_right = pd.merge(most_used_tags, most_viewed_tags, how=\"right\", left_index=True, right_index=True)"
   ]
  },
  {
   "cell_type": "code",
   "execution_count": 14,
   "id": "deefe3be",
   "metadata": {},
   "outputs": [
    {
     "data": {
      "text/html": [
       "<div>\n",
       "<style scoped>\n",
       "    .dataframe tbody tr th:only-of-type {\n",
       "        vertical-align: middle;\n",
       "    }\n",
       "\n",
       "    .dataframe tbody tr th {\n",
       "        vertical-align: top;\n",
       "    }\n",
       "\n",
       "    .dataframe thead th {\n",
       "        text-align: right;\n",
       "    }\n",
       "</style>\n",
       "<table border=\"1\" class=\"dataframe\">\n",
       "  <thead>\n",
       "    <tr style=\"text-align: right;\">\n",
       "      <th></th>\n",
       "      <th>counts</th>\n",
       "      <th>views</th>\n",
       "    </tr>\n",
       "  </thead>\n",
       "  <tbody>\n",
       "    <tr>\n",
       "      <th>machine-learning</th>\n",
       "      <td>2128</td>\n",
       "      <td>2058629.0</td>\n",
       "    </tr>\n",
       "    <tr>\n",
       "      <th>python</th>\n",
       "      <td>1440</td>\n",
       "      <td>3031143.0</td>\n",
       "    </tr>\n",
       "    <tr>\n",
       "      <th>deep-learning</th>\n",
       "      <td>895</td>\n",
       "      <td>1165715.0</td>\n",
       "    </tr>\n",
       "    <tr>\n",
       "      <th>neural-network</th>\n",
       "      <td>819</td>\n",
       "      <td>1043623.0</td>\n",
       "    </tr>\n",
       "    <tr>\n",
       "      <th>keras</th>\n",
       "      <td>706</td>\n",
       "      <td>1270782.0</td>\n",
       "    </tr>\n",
       "  </tbody>\n",
       "</table>\n",
       "</div>"
      ],
      "text/plain": [
       "                  counts      views\n",
       "machine-learning    2128  2058629.0\n",
       "python              1440  3031143.0\n",
       "deep-learning        895  1165715.0\n",
       "neural-network       819  1043623.0\n",
       "keras                706  1270782.0"
      ]
     },
     "execution_count": 14,
     "metadata": {},
     "output_type": "execute_result"
    }
   ],
   "source": [
    "in_used_left.head()"
   ]
  },
  {
   "cell_type": "code",
   "execution_count": 15,
   "id": "2f0907f3",
   "metadata": {},
   "outputs": [
    {
     "data": {
      "text/html": [
       "<div>\n",
       "<style scoped>\n",
       "    .dataframe tbody tr th:only-of-type {\n",
       "        vertical-align: middle;\n",
       "    }\n",
       "\n",
       "    .dataframe tbody tr th {\n",
       "        vertical-align: top;\n",
       "    }\n",
       "\n",
       "    .dataframe thead th {\n",
       "        text-align: right;\n",
       "    }\n",
       "</style>\n",
       "<table border=\"1\" class=\"dataframe\">\n",
       "  <thead>\n",
       "    <tr style=\"text-align: right;\">\n",
       "      <th></th>\n",
       "      <th>counts</th>\n",
       "      <th>views</th>\n",
       "    </tr>\n",
       "  </thead>\n",
       "  <tbody>\n",
       "    <tr>\n",
       "      <th>python</th>\n",
       "      <td>1440.0</td>\n",
       "      <td>3031143.0</td>\n",
       "    </tr>\n",
       "    <tr>\n",
       "      <th>machine-learning</th>\n",
       "      <td>2128.0</td>\n",
       "      <td>2058629.0</td>\n",
       "    </tr>\n",
       "    <tr>\n",
       "      <th>pandas</th>\n",
       "      <td>315.0</td>\n",
       "      <td>1445443.0</td>\n",
       "    </tr>\n",
       "    <tr>\n",
       "      <th>keras</th>\n",
       "      <td>706.0</td>\n",
       "      <td>1270782.0</td>\n",
       "    </tr>\n",
       "    <tr>\n",
       "      <th>deep-learning</th>\n",
       "      <td>895.0</td>\n",
       "      <td>1165715.0</td>\n",
       "    </tr>\n",
       "  </tbody>\n",
       "</table>\n",
       "</div>"
      ],
      "text/plain": [
       "                  counts      views\n",
       "python            1440.0  3031143.0\n",
       "machine-learning  2128.0  2058629.0\n",
       "pandas             315.0  1445443.0\n",
       "keras              706.0  1270782.0\n",
       "deep-learning      895.0  1165715.0"
      ]
     },
     "execution_count": 15,
     "metadata": {},
     "output_type": "execute_result"
    }
   ],
   "source": [
    "in_used_right.head()"
   ]
  },
  {
   "cell_type": "markdown",
   "id": "ccdea165",
   "metadata": {},
   "source": [
    "#### Now, we are going to study if \"deep learning\" is just a buzz word or not. \n",
    "#### We can see all questions tags, using this query (we are going to use the same website we used in the beginning of this project):\n",
    "    SELECT Id, CreationDate, Tags\n",
    "     FROM Posts\n",
    "     WHERE PostTypeId = 1;\n",
    "#### PostTypeId: An identification number for the type of post, where:\n",
    "    1 = question, 2 = answer, 3 = wiki, 4 = TagWikiExcerpt, 5 = TagWiki, 6 = ModeratorNomination, 7 = WikiPlaceholder, 8 = PrivilegeWiki.    "
   ]
  },
  {
   "cell_type": "code",
   "execution_count": 16,
   "id": "59d16748",
   "metadata": {},
   "outputs": [],
   "source": [
    "# read csv\n",
    "deep = pd.read_csv(\"C://Users//johng//Desktop//data//all_questions.csv\", encoding='utf-8')"
   ]
  },
  {
   "cell_type": "code",
   "execution_count": 17,
   "id": "67f633d3",
   "metadata": {},
   "outputs": [
    {
     "data": {
      "text/html": [
       "<div>\n",
       "<style scoped>\n",
       "    .dataframe tbody tr th:only-of-type {\n",
       "        vertical-align: middle;\n",
       "    }\n",
       "\n",
       "    .dataframe tbody tr th {\n",
       "        vertical-align: top;\n",
       "    }\n",
       "\n",
       "    .dataframe thead th {\n",
       "        text-align: right;\n",
       "    }\n",
       "</style>\n",
       "<table border=\"1\" class=\"dataframe\">\n",
       "  <thead>\n",
       "    <tr style=\"text-align: right;\">\n",
       "      <th></th>\n",
       "      <th>Id</th>\n",
       "      <th>CreationDate</th>\n",
       "      <th>Tags</th>\n",
       "    </tr>\n",
       "  </thead>\n",
       "  <tbody>\n",
       "    <tr>\n",
       "      <th>0</th>\n",
       "      <td>80698</td>\n",
       "      <td>2020-08-23 15:41:14</td>\n",
       "      <td>&lt;deep-learning&gt;&lt;gradient-descent&gt;&lt;backpropagat...</td>\n",
       "    </tr>\n",
       "    <tr>\n",
       "      <th>1</th>\n",
       "      <td>80709</td>\n",
       "      <td>2020-08-24 02:28:59</td>\n",
       "      <td>&lt;scikit-learn&gt;&lt;cross-validation&gt;&lt;training&gt;</td>\n",
       "    </tr>\n",
       "    <tr>\n",
       "      <th>2</th>\n",
       "      <td>80710</td>\n",
       "      <td>2020-08-24 03:33:39</td>\n",
       "      <td>&lt;machine-learning&gt;&lt;data-science-model&gt;&lt;features&gt;</td>\n",
       "    </tr>\n",
       "    <tr>\n",
       "      <th>3</th>\n",
       "      <td>80711</td>\n",
       "      <td>2020-08-24 04:28:54</td>\n",
       "      <td>&lt;machine-learning&gt;&lt;deep-learning&gt;&lt;nlp&gt;&lt;unsuper...</td>\n",
       "    </tr>\n",
       "    <tr>\n",
       "      <th>4</th>\n",
       "      <td>80714</td>\n",
       "      <td>2020-08-24 05:59:11</td>\n",
       "      <td>&lt;predictive-modeling&gt;&lt;cross-validation&gt;&lt;conver...</td>\n",
       "    </tr>\n",
       "  </tbody>\n",
       "</table>\n",
       "</div>"
      ],
      "text/plain": [
       "      Id         CreationDate  \\\n",
       "0  80698  2020-08-23 15:41:14   \n",
       "1  80709  2020-08-24 02:28:59   \n",
       "2  80710  2020-08-24 03:33:39   \n",
       "3  80711  2020-08-24 04:28:54   \n",
       "4  80714  2020-08-24 05:59:11   \n",
       "\n",
       "                                                Tags  \n",
       "0  <deep-learning><gradient-descent><backpropagat...  \n",
       "1         <scikit-learn><cross-validation><training>  \n",
       "2   <machine-learning><data-science-model><features>  \n",
       "3  <machine-learning><deep-learning><nlp><unsuper...  \n",
       "4  <predictive-modeling><cross-validation><conver...  "
      ]
     },
     "execution_count": 17,
     "metadata": {},
     "output_type": "execute_result"
    }
   ],
   "source": [
    "deep.head()"
   ]
  },
  {
   "cell_type": "code",
   "execution_count": 18,
   "id": "e488fc93",
   "metadata": {},
   "outputs": [
    {
     "data": {
      "text/html": [
       "<div>\n",
       "<style scoped>\n",
       "    .dataframe tbody tr th:only-of-type {\n",
       "        vertical-align: middle;\n",
       "    }\n",
       "\n",
       "    .dataframe tbody tr th {\n",
       "        vertical-align: top;\n",
       "    }\n",
       "\n",
       "    .dataframe thead th {\n",
       "        text-align: right;\n",
       "    }\n",
       "</style>\n",
       "<table border=\"1\" class=\"dataframe\">\n",
       "  <thead>\n",
       "    <tr style=\"text-align: right;\">\n",
       "      <th></th>\n",
       "      <th>Id</th>\n",
       "      <th>CreationDate</th>\n",
       "      <th>Tags</th>\n",
       "    </tr>\n",
       "  </thead>\n",
       "  <tbody>\n",
       "    <tr>\n",
       "      <th>0</th>\n",
       "      <td>80698</td>\n",
       "      <td>2020-08-23 15:41:14</td>\n",
       "      <td>[deep-learning, gradient-descent, backpropagat...</td>\n",
       "    </tr>\n",
       "    <tr>\n",
       "      <th>1</th>\n",
       "      <td>80709</td>\n",
       "      <td>2020-08-24 02:28:59</td>\n",
       "      <td>[scikit-learn, cross-validation, training]</td>\n",
       "    </tr>\n",
       "    <tr>\n",
       "      <th>2</th>\n",
       "      <td>80710</td>\n",
       "      <td>2020-08-24 03:33:39</td>\n",
       "      <td>[machine-learning, data-science-model, features]</td>\n",
       "    </tr>\n",
       "    <tr>\n",
       "      <th>3</th>\n",
       "      <td>80711</td>\n",
       "      <td>2020-08-24 04:28:54</td>\n",
       "      <td>[machine-learning, deep-learning, nlp, unsuper...</td>\n",
       "    </tr>\n",
       "    <tr>\n",
       "      <th>4</th>\n",
       "      <td>80714</td>\n",
       "      <td>2020-08-24 05:59:11</td>\n",
       "      <td>[predictive-modeling, cross-validation, conver...</td>\n",
       "    </tr>\n",
       "    <tr>\n",
       "      <th>5</th>\n",
       "      <td>80716</td>\n",
       "      <td>2020-08-24 06:28:49</td>\n",
       "      <td>[machine-learning, data]</td>\n",
       "    </tr>\n",
       "    <tr>\n",
       "      <th>6</th>\n",
       "      <td>80727</td>\n",
       "      <td>2020-08-24 13:27:36</td>\n",
       "      <td>[feature-selection, feature-engineering, featu...</td>\n",
       "    </tr>\n",
       "    <tr>\n",
       "      <th>7</th>\n",
       "      <td>80729</td>\n",
       "      <td>2020-08-24 14:06:32</td>\n",
       "      <td>[neural-network, deep-learning, lstm, nlp, gan]</td>\n",
       "    </tr>\n",
       "    <tr>\n",
       "      <th>8</th>\n",
       "      <td>80730</td>\n",
       "      <td>2020-08-24 14:08:20</td>\n",
       "      <td>[machine-learning, classification, logistic-re...</td>\n",
       "    </tr>\n",
       "    <tr>\n",
       "      <th>9</th>\n",
       "      <td>80731</td>\n",
       "      <td>2020-08-24 14:19:01</td>\n",
       "      <td>[feature-selection, feature-engineering, predi...</td>\n",
       "    </tr>\n",
       "  </tbody>\n",
       "</table>\n",
       "</div>"
      ],
      "text/plain": [
       "      Id         CreationDate  \\\n",
       "0  80698  2020-08-23 15:41:14   \n",
       "1  80709  2020-08-24 02:28:59   \n",
       "2  80710  2020-08-24 03:33:39   \n",
       "3  80711  2020-08-24 04:28:54   \n",
       "4  80714  2020-08-24 05:59:11   \n",
       "5  80716  2020-08-24 06:28:49   \n",
       "6  80727  2020-08-24 13:27:36   \n",
       "7  80729  2020-08-24 14:06:32   \n",
       "8  80730  2020-08-24 14:08:20   \n",
       "9  80731  2020-08-24 14:19:01   \n",
       "\n",
       "                                                Tags  \n",
       "0  [deep-learning, gradient-descent, backpropagat...  \n",
       "1         [scikit-learn, cross-validation, training]  \n",
       "2   [machine-learning, data-science-model, features]  \n",
       "3  [machine-learning, deep-learning, nlp, unsuper...  \n",
       "4  [predictive-modeling, cross-validation, conver...  \n",
       "5                           [machine-learning, data]  \n",
       "6  [feature-selection, feature-engineering, featu...  \n",
       "7    [neural-network, deep-learning, lstm, nlp, gan]  \n",
       "8  [machine-learning, classification, logistic-re...  \n",
       "9  [feature-selection, feature-engineering, predi...  "
      ]
     },
     "execution_count": 18,
     "metadata": {},
     "output_type": "execute_result"
    }
   ],
   "source": [
    "#Clean the Tags column and assign it back to itself\n",
    "deep[\"Tags\"] = deep[\"Tags\"].str.replace(\"^<|>$\",\"\").str.split(\"><\")\n",
    "deep.head(10)"
   ]
  },
  {
   "cell_type": "code",
   "execution_count": 19,
   "id": "e9898474",
   "metadata": {},
   "outputs": [],
   "source": [
    "#Fill the missing values with \"\"\n",
    "deep[\"Tags\"].fillna(\"\",inplace = True)"
   ]
  },
  {
   "cell_type": "code",
   "execution_count": 21,
   "id": "c27ee2dc",
   "metadata": {},
   "outputs": [],
   "source": [
    "#Identify the questions that have a deep-learning tag on them\n",
    "deep[\"DL-flag\"] = deep[\"Tags\"].apply(lambda x: \"deep-learning\" in x)"
   ]
  },
  {
   "cell_type": "code",
   "execution_count": 32,
   "id": "76310baf",
   "metadata": {},
   "outputs": [
    {
     "name": "stdout",
     "output_type": "stream",
     "text": [
      "<class 'pandas.core.frame.DataFrame'>\n",
      "Int64Index: 4375 entries, 0 to 32546\n",
      "Data columns (total 4 columns):\n",
      " #   Column        Non-Null Count  Dtype \n",
      "---  ------        --------------  ----- \n",
      " 0   Id            4375 non-null   int64 \n",
      " 1   CreationDate  4375 non-null   object\n",
      " 2   Tags          4375 non-null   object\n",
      " 3   DL-flag       4375 non-null   bool  \n",
      "dtypes: bool(1), int64(1), object(2)\n",
      "memory usage: 141.0+ KB\n"
     ]
    },
    {
     "data": {
      "text/html": [
       "<div>\n",
       "<style scoped>\n",
       "    .dataframe tbody tr th:only-of-type {\n",
       "        vertical-align: middle;\n",
       "    }\n",
       "\n",
       "    .dataframe tbody tr th {\n",
       "        vertical-align: top;\n",
       "    }\n",
       "\n",
       "    .dataframe thead th {\n",
       "        text-align: right;\n",
       "    }\n",
       "</style>\n",
       "<table border=\"1\" class=\"dataframe\">\n",
       "  <thead>\n",
       "    <tr style=\"text-align: right;\">\n",
       "      <th></th>\n",
       "      <th>Id</th>\n",
       "      <th>CreationDate</th>\n",
       "      <th>Tags</th>\n",
       "      <th>DL-flag</th>\n",
       "    </tr>\n",
       "  </thead>\n",
       "  <tbody>\n",
       "    <tr>\n",
       "      <th>0</th>\n",
       "      <td>80698</td>\n",
       "      <td>2020-08-23 15:41:14</td>\n",
       "      <td>[deep-learning, gradient-descent, backpropagat...</td>\n",
       "      <td>True</td>\n",
       "    </tr>\n",
       "    <tr>\n",
       "      <th>3</th>\n",
       "      <td>80711</td>\n",
       "      <td>2020-08-24 04:28:54</td>\n",
       "      <td>[machine-learning, deep-learning, nlp, unsuper...</td>\n",
       "      <td>True</td>\n",
       "    </tr>\n",
       "    <tr>\n",
       "      <th>7</th>\n",
       "      <td>80729</td>\n",
       "      <td>2020-08-24 14:06:32</td>\n",
       "      <td>[neural-network, deep-learning, lstm, nlp, gan]</td>\n",
       "      <td>True</td>\n",
       "    </tr>\n",
       "    <tr>\n",
       "      <th>18</th>\n",
       "      <td>80754</td>\n",
       "      <td>2020-08-24 22:49:15</td>\n",
       "      <td>[deep-learning, sequence]</td>\n",
       "      <td>True</td>\n",
       "    </tr>\n",
       "    <tr>\n",
       "      <th>19</th>\n",
       "      <td>80756</td>\n",
       "      <td>2020-08-25 01:28:27</td>\n",
       "      <td>[python, deep-learning, machine-learning-model...</td>\n",
       "      <td>True</td>\n",
       "    </tr>\n",
       "  </tbody>\n",
       "</table>\n",
       "</div>"
      ],
      "text/plain": [
       "       Id         CreationDate  \\\n",
       "0   80698  2020-08-23 15:41:14   \n",
       "3   80711  2020-08-24 04:28:54   \n",
       "7   80729  2020-08-24 14:06:32   \n",
       "18  80754  2020-08-24 22:49:15   \n",
       "19  80756  2020-08-25 01:28:27   \n",
       "\n",
       "                                                 Tags  DL-flag  \n",
       "0   [deep-learning, gradient-descent, backpropagat...     True  \n",
       "3   [machine-learning, deep-learning, nlp, unsuper...     True  \n",
       "7     [neural-network, deep-learning, lstm, nlp, gan]     True  \n",
       "18                          [deep-learning, sequence]     True  \n",
       "19  [python, deep-learning, machine-learning-model...     True  "
      ]
     },
     "execution_count": 32,
     "metadata": {},
     "output_type": "execute_result"
    }
   ],
   "source": [
    "#Selecting questions with a Deep Learning Tagb\n",
    "DLQuestions = deep[deep[\"DL-flag\"]==True]\n",
    "DLQuestions.info()\n",
    "DLQuestions.head()"
   ]
  },
  {
   "cell_type": "code",
   "execution_count": null,
   "id": "9a2f17fb",
   "metadata": {},
   "outputs": [],
   "source": []
  },
  {
   "cell_type": "code",
   "execution_count": 38,
   "id": "f0b77b02",
   "metadata": {},
   "outputs": [
    {
     "ename": "AttributeError",
     "evalue": "'str' object has no attribute 'year'",
     "output_type": "error",
     "traceback": [
      "\u001b[1;31m---------------------------------------------------------------------------\u001b[0m",
      "\u001b[1;31mAttributeError\u001b[0m                            Traceback (most recent call last)",
      "\u001b[1;32m~\\AppData\\Local\\Temp/ipykernel_1464/2043823971.py\u001b[0m in \u001b[0;36m<module>\u001b[1;34m\u001b[0m\n\u001b[0;32m      2\u001b[0m \u001b[0mYearQ\u001b[0m \u001b[1;33m=\u001b[0m \u001b[0mdict\u001b[0m\u001b[1;33m(\u001b[0m\u001b[1;33m)\u001b[0m\u001b[1;33m\u001b[0m\u001b[1;33m\u001b[0m\u001b[0m\n\u001b[0;32m      3\u001b[0m \u001b[1;32mfor\u001b[0m \u001b[0mdate\u001b[0m \u001b[1;32min\u001b[0m \u001b[0mDLQuestions\u001b[0m\u001b[1;33m[\u001b[0m\u001b[1;34m\"CreationDate\"\u001b[0m\u001b[1;33m]\u001b[0m\u001b[1;33m:\u001b[0m\u001b[1;33m\u001b[0m\u001b[1;33m\u001b[0m\u001b[0m\n\u001b[1;32m----> 4\u001b[1;33m     \u001b[0mCurrentYear\u001b[0m \u001b[1;33m=\u001b[0m \u001b[0mdate\u001b[0m\u001b[1;33m.\u001b[0m\u001b[0myear\u001b[0m\u001b[1;33m\u001b[0m\u001b[1;33m\u001b[0m\u001b[0m\n\u001b[0m\u001b[0;32m      5\u001b[0m     \u001b[0mCurrentMonth\u001b[0m \u001b[1;33m=\u001b[0m \u001b[0mdate\u001b[0m\u001b[1;33m.\u001b[0m\u001b[0mmonth\u001b[0m\u001b[1;33m\u001b[0m\u001b[1;33m\u001b[0m\u001b[0m\n\u001b[0;32m      6\u001b[0m     \u001b[1;32mif\u001b[0m \u001b[0mCurrentMonth\u001b[0m \u001b[1;33m<\u001b[0m \u001b[1;36m4\u001b[0m\u001b[1;33m:\u001b[0m\u001b[1;33m\u001b[0m\u001b[1;33m\u001b[0m\u001b[0m\n",
      "\u001b[1;31mAttributeError\u001b[0m: 'str' object has no attribute 'year'"
     ]
    }
   ],
   "source": [
    "#Creating a frequency table of years and months\n",
    "YearQ = dict()\n",
    "for date in DLQuestions[\"CreationDate\"]:\n",
    "    CurrentYear = date.year\n",
    "    CurrentMonth = date.month\n",
    "    if CurrentMonth < 4:\n",
    "        CurrentQ = 1\n",
    "    elif CurrentMonth < 7:\n",
    "        CurrentQ = 2\n",
    "    elif CurrentMonth < 10:\n",
    "        CurrentQ = 3\n",
    "    else: \n",
    "        CurrentQ = 4\n",
    "    CurrentDate = CurrentYear*100 + CurrentQ\n",
    "    if CurrentDate in YearQ:\n",
    "        YearQ[CurrentDate] +=1\n",
    "    else:\n",
    "        YearQ[CurrentDate] = 1"
   ]
  },
  {
   "cell_type": "code",
   "execution_count": null,
   "id": "ab79f372",
   "metadata": {},
   "outputs": [],
   "source": []
  },
  {
   "cell_type": "code",
   "execution_count": null,
   "id": "d54ceab7",
   "metadata": {},
   "outputs": [],
   "source": []
  }
 ],
 "metadata": {
  "kernelspec": {
   "display_name": "Python 3 (ipykernel)",
   "language": "python",
   "name": "python3"
  },
  "language_info": {
   "codemirror_mode": {
    "name": "ipython",
    "version": 3
   },
   "file_extension": ".py",
   "mimetype": "text/x-python",
   "name": "python",
   "nbconvert_exporter": "python",
   "pygments_lexer": "ipython3",
   "version": "3.9.7"
  }
 },
 "nbformat": 4,
 "nbformat_minor": 5
}
