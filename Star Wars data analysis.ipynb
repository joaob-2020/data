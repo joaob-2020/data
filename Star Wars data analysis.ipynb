{
 "cells": [
  {
   "cell_type": "markdown",
   "id": "aa49a390",
   "metadata": {},
   "source": [
    "# The team at FiveThirtyEight became interested in answering some questions about Star Wars fans. \n",
    "#### They wondered: does the rest of America realize that “The Empire Strikes Back” is clearly the best of the bunch?\n",
    "#### The data survey done using the tool SurveyMonkey is in the GitHub repository:\n",
    "# https://github.com/fivethirtyeight/data/tree/master/star-wars-survey"
   ]
  },
  {
   "cell_type": "markdown",
   "id": "58f55b56",
   "metadata": {},
   "source": [
    "    The data has several columns, including the following:\n",
    "\n",
    "    RespondentID — An anonymized ID for the respondent (person taking the survey)\n",
    "    Gender — the respondent's gender\n",
    "    Age — the respondent's age\n",
    "    Household Income — the respondent's income\n",
    "    Education — the respondent's education level\n",
    "    Location (Census Region) — the respondent's location\n",
    "    Have you seen any of the 6 films in the Star Wars franchise? — a Yes or No response\n",
    "    Do you consider yourself to be a fan of the Star Wars film franchise? — a Yes or No response"
   ]
  },
  {
   "cell_type": "code",
   "execution_count": 1,
   "id": "b242e661",
   "metadata": {},
   "outputs": [],
   "source": [
    "import pandas as pd\n",
    "import numpy as np\n",
    "import matplotlib.pyplot as plt\n",
    "%matplotlib inline"
   ]
  },
  {
   "cell_type": "code",
   "execution_count": 2,
   "id": "6cf66c8b",
   "metadata": {},
   "outputs": [],
   "source": [
    "star_wars = pd.read_csv(\"C://Users//johng//Desktop//data//star_wars.csv\", encoding='ISO-8859-1')"
   ]
  },
  {
   "cell_type": "markdown",
   "id": "ce2afac7",
   "metadata": {},
   "source": [
    "####  The reason for ISO-8859-1 encoding is that some characters aren't in Python's default utf-8 encoding."
   ]
  },
  {
   "cell_type": "code",
   "execution_count": 3,
   "id": "d06e8d28",
   "metadata": {},
   "outputs": [
    {
     "data": {
      "text/plain": [
       "Index(['RespondentID',\n",
       "       'Have you seen any of the 6 films in the Star Wars franchise?',\n",
       "       'Do you consider yourself to be a fan of the Star Wars film franchise?',\n",
       "       'Which of the following Star Wars films have you seen? Please select all that apply.',\n",
       "       'Unnamed: 4', 'Unnamed: 5', 'Unnamed: 6', 'Unnamed: 7', 'Unnamed: 8',\n",
       "       'Please rank the Star Wars films in order of preference with 1 being your favorite film in the franchise and 6 being your least favorite film.',\n",
       "       'Unnamed: 10', 'Unnamed: 11', 'Unnamed: 12', 'Unnamed: 13',\n",
       "       'Unnamed: 14',\n",
       "       'Please state whether you view the following characters favorably, unfavorably, or are unfamiliar with him/her.',\n",
       "       'Unnamed: 16', 'Unnamed: 17', 'Unnamed: 18', 'Unnamed: 19',\n",
       "       'Unnamed: 20', 'Unnamed: 21', 'Unnamed: 22', 'Unnamed: 23',\n",
       "       'Unnamed: 24', 'Unnamed: 25', 'Unnamed: 26', 'Unnamed: 27',\n",
       "       'Unnamed: 28', 'Which character shot first?',\n",
       "       'Are you familiar with the Expanded Universe?',\n",
       "       'Do you consider yourself to be a fan of the Expanded Universe?',\n",
       "       'Do you consider yourself to be a fan of the Star Trek franchise?',\n",
       "       'Gender', 'Age', 'Household Income', 'Education',\n",
       "       'Location (Census Region)'],\n",
       "      dtype='object')"
      ]
     },
     "execution_count": 3,
     "metadata": {},
     "output_type": "execute_result"
    }
   ],
   "source": [
    "star_wars.columns"
   ]
  },
  {
   "cell_type": "code",
   "execution_count": 4,
   "id": "988918db",
   "metadata": {},
   "outputs": [
    {
     "data": {
      "text/plain": [
       "Yes    936\n",
       "No     250\n",
       "Name: Have you seen any of the 6 films in the Star Wars franchise?, dtype: int64"
      ]
     },
     "execution_count": 4,
     "metadata": {},
     "output_type": "execute_result"
    }
   ],
   "source": [
    "star_wars[\"Have you seen any of the 6 films in the Star Wars franchise?\"].value_counts(dropna=False)"
   ]
  },
  {
   "cell_type": "code",
   "execution_count": 5,
   "id": "bf674448",
   "metadata": {},
   "outputs": [
    {
     "data": {
      "text/plain": [
       "Yes    552\n",
       "No     284\n",
       "Name: Do you consider yourself to be a fan of the Star Wars film franchise?, dtype: int64"
      ]
     },
     "execution_count": 5,
     "metadata": {},
     "output_type": "execute_result"
    }
   ],
   "source": [
    "star_wars[\"Do you consider yourself to be a fan of the Star Wars film franchise?\"].value_counts()"
   ]
  },
  {
   "cell_type": "markdown",
   "id": "a58ddce8",
   "metadata": {},
   "source": [
    "#### Boolean values (True and False) instead of Yes or No are easier to analyze."
   ]
  },
  {
   "cell_type": "code",
   "execution_count": 6,
   "id": "072bbb67",
   "metadata": {},
   "outputs": [],
   "source": [
    "yes_no = {\n",
    "    \"Yes\": True,\n",
    "    \"No\": False\n",
    "}\n",
    "columns = [\n",
    "    \"Have you seen any of the 6 films in the Star Wars franchise?\", \n",
    "    \"Do you consider yourself to be a fan of the Star Wars film franchise?\"\n",
    "          ]\n",
    "\n",
    "for c in columns:\n",
    "    star_wars[c] = star_wars[c].map(yes_no)    "
   ]
  },
  {
   "cell_type": "markdown",
   "id": "b7c41b59",
   "metadata": {},
   "source": [
    "#### The unnamed columns are an answer to:\n",
    "    Which of the following Star Wars films have you seen? Please select all that apply. -> Star Wars: Episode I The Phantom Menace\n",
    "    Unnamed: 4 -> Star Wars: Episode II Attack of the Clones\n",
    "    Unnamed: 5 -> Star Wars: Episode III Revenge of the Sith\n",
    "    Unnamed: 6 -> Star Wars: Episode IV A New Hope\n",
    "    Unnamed: 7 -> Star Wars: Episode V The Empire Strikes Back\n",
    "    Unnamed: 8 -> Star Wars: Episode VI Return of the Jedi \n",
    "    \n",
    "# If the value in a cell is the name of the movie, that means the respondent saw the movie."
   ]
  },
  {
   "cell_type": "code",
   "execution_count": 7,
   "id": "c7bef2fa",
   "metadata": {},
   "outputs": [],
   "source": [
    "movie_bool = {\n",
    "    \"Star Wars: Episode I  The Phantom Menace\": True,\n",
    "    \"Star Wars: Episode II  Attack of the Clones\": True,\n",
    "    \"Star Wars: Episode III  Revenge of the Sith\": True,\n",
    "    \"Star Wars: Episode IV  A New Hope\": True,\n",
    "    \"Star Wars: Episode V The Empire Strikes Back\": True,\n",
    "    \"Star Wars: Episode VI Return of the Jedi\": True,\n",
    "    np.NaN: False\n",
    "}\n",
    "\n",
    "cols = [\n",
    "    \"Which of the following Star Wars films have you seen? Please select all that apply.\",\n",
    "    \"Unnamed: 4\",\n",
    "    \"Unnamed: 5\",\n",
    "    \"Unnamed: 6\",\n",
    "    \"Unnamed: 7\",\n",
    "    \"Unnamed: 8\"\n",
    "]\n",
    "\n",
    "for c in cols:\n",
    "    star_wars[c] = star_wars[c].map(movie_bool)"
   ]
  },
  {
   "cell_type": "markdown",
   "id": "77fabbb3",
   "metadata": {},
   "source": [
    "#### Rename cols to seen_1, seen_2, seen_3, seen_4, seen_5, seen_6:"
   ]
  },
  {
   "cell_type": "code",
   "execution_count": 8,
   "id": "43838429",
   "metadata": {},
   "outputs": [],
   "source": [
    "counter = 0\n",
    "\n",
    "for c in cols:\n",
    "    counter = counter + 1\n",
    "    star_wars = star_wars.rename(columns={ c: \"seen_{count}\".format(count=counter)})"
   ]
  },
  {
   "cell_type": "markdown",
   "id": "b03966c1",
   "metadata": {},
   "source": [
    "### The next six columns ask the respondent to rank the Star Wars movies in order from least to most favorite. \n",
    "### 1 means the film was the most favorite, and 6 means it was the least favorite. \n",
    "### Each of the following columns can contain the value 1, 2, 3, 4, 5, 6, or NaN.\n",
    "    \n",
    "    Please rank the Star Wars films in order of preference with 1 being your favorite film in the franchise and 6 being your least favorite film -> How much the respondent liked Star Wars: Episode I The Phantom Menace\n",
    "    Unnamed: 10 — How much the respondent liked Star Wars: Episode II Attack of the Clones\n",
    "    Unnamed: 11 — How much the respondent liked Star Wars: Episode III Revenge of the Sith\n",
    "    Unnamed: 12 — How much the respondent liked Star Wars: Episode IV A New Hope\n",
    "    Unnamed: 13 — How much the respondent liked Star Wars: Episode V The Empire Strikes Back\n",
    "    Unnamed: 14 — How much the respondent liked Star Wars: Episode VI Return of the Jedi\n",
    "    \n",
    "    We need to convert these columns to float type and rename them."
   ]
  },
  {
   "cell_type": "code",
   "execution_count": 9,
   "id": "1ee72b24",
   "metadata": {},
   "outputs": [],
   "source": [
    "counter = 0\n",
    "cols = [\n",
    "    \"Please rank the Star Wars films in order of preference with 1 being your favorite film in the franchise and 6 being your least favorite film.\",\n",
    "    \"Unnamed: 10\",\n",
    "    \"Unnamed: 11\",\n",
    "    \"Unnamed: 12\",\n",
    "    \"Unnamed: 13\",\n",
    "    \"Unnamed: 14\"\n",
    "]\n",
    "\n",
    "for c in cols:\n",
    "    star_wars[c] = star_wars[c].astype(float)\n",
    "    counter = counter + 1\n",
    "    star_wars = star_wars.rename(columns={ c: \"ranking_{count}\".format(count=counter)})"
   ]
  },
  {
   "cell_type": "code",
   "execution_count": 10,
   "id": "1c978ef2",
   "metadata": {},
   "outputs": [
    {
     "data": {
      "text/html": [
       "<div>\n",
       "<style scoped>\n",
       "    .dataframe tbody tr th:only-of-type {\n",
       "        vertical-align: middle;\n",
       "    }\n",
       "\n",
       "    .dataframe tbody tr th {\n",
       "        vertical-align: top;\n",
       "    }\n",
       "\n",
       "    .dataframe thead th {\n",
       "        text-align: right;\n",
       "    }\n",
       "</style>\n",
       "<table border=\"1\" class=\"dataframe\">\n",
       "  <thead>\n",
       "    <tr style=\"text-align: right;\">\n",
       "      <th></th>\n",
       "      <th>RespondentID</th>\n",
       "      <th>Have you seen any of the 6 films in the Star Wars franchise?</th>\n",
       "      <th>Do you consider yourself to be a fan of the Star Wars film franchise?</th>\n",
       "      <th>seen_1</th>\n",
       "      <th>seen_2</th>\n",
       "      <th>seen_3</th>\n",
       "      <th>seen_4</th>\n",
       "      <th>seen_5</th>\n",
       "      <th>seen_6</th>\n",
       "      <th>ranking_1</th>\n",
       "      <th>...</th>\n",
       "      <th>Unnamed: 28</th>\n",
       "      <th>Which character shot first?</th>\n",
       "      <th>Are you familiar with the Expanded Universe?</th>\n",
       "      <th>Do you consider yourself to be a fan of the Expanded Universe?</th>\n",
       "      <th>Do you consider yourself to be a fan of the Star Trek franchise?</th>\n",
       "      <th>Gender</th>\n",
       "      <th>Age</th>\n",
       "      <th>Household Income</th>\n",
       "      <th>Education</th>\n",
       "      <th>Location (Census Region)</th>\n",
       "    </tr>\n",
       "  </thead>\n",
       "  <tbody>\n",
       "    <tr>\n",
       "      <th>0</th>\n",
       "      <td>3292879998</td>\n",
       "      <td>True</td>\n",
       "      <td>True</td>\n",
       "      <td>True</td>\n",
       "      <td>True</td>\n",
       "      <td>True</td>\n",
       "      <td>True</td>\n",
       "      <td>True</td>\n",
       "      <td>True</td>\n",
       "      <td>3.0</td>\n",
       "      <td>...</td>\n",
       "      <td>Very favorably</td>\n",
       "      <td>I don't understand this question</td>\n",
       "      <td>Yes</td>\n",
       "      <td>No</td>\n",
       "      <td>No</td>\n",
       "      <td>Male</td>\n",
       "      <td>18-29</td>\n",
       "      <td>NaN</td>\n",
       "      <td>High school degree</td>\n",
       "      <td>South Atlantic</td>\n",
       "    </tr>\n",
       "    <tr>\n",
       "      <th>1</th>\n",
       "      <td>3292879538</td>\n",
       "      <td>False</td>\n",
       "      <td>NaN</td>\n",
       "      <td>False</td>\n",
       "      <td>False</td>\n",
       "      <td>False</td>\n",
       "      <td>False</td>\n",
       "      <td>False</td>\n",
       "      <td>False</td>\n",
       "      <td>NaN</td>\n",
       "      <td>...</td>\n",
       "      <td>NaN</td>\n",
       "      <td>NaN</td>\n",
       "      <td>NaN</td>\n",
       "      <td>NaN</td>\n",
       "      <td>Yes</td>\n",
       "      <td>Male</td>\n",
       "      <td>18-29</td>\n",
       "      <td>$0 - $24,999</td>\n",
       "      <td>Bachelor degree</td>\n",
       "      <td>West South Central</td>\n",
       "    </tr>\n",
       "    <tr>\n",
       "      <th>2</th>\n",
       "      <td>3292765271</td>\n",
       "      <td>True</td>\n",
       "      <td>False</td>\n",
       "      <td>True</td>\n",
       "      <td>True</td>\n",
       "      <td>True</td>\n",
       "      <td>False</td>\n",
       "      <td>False</td>\n",
       "      <td>False</td>\n",
       "      <td>1.0</td>\n",
       "      <td>...</td>\n",
       "      <td>Unfamiliar (N/A)</td>\n",
       "      <td>I don't understand this question</td>\n",
       "      <td>No</td>\n",
       "      <td>NaN</td>\n",
       "      <td>No</td>\n",
       "      <td>Male</td>\n",
       "      <td>18-29</td>\n",
       "      <td>$0 - $24,999</td>\n",
       "      <td>High school degree</td>\n",
       "      <td>West North Central</td>\n",
       "    </tr>\n",
       "    <tr>\n",
       "      <th>3</th>\n",
       "      <td>3292763116</td>\n",
       "      <td>True</td>\n",
       "      <td>True</td>\n",
       "      <td>True</td>\n",
       "      <td>True</td>\n",
       "      <td>True</td>\n",
       "      <td>True</td>\n",
       "      <td>True</td>\n",
       "      <td>True</td>\n",
       "      <td>5.0</td>\n",
       "      <td>...</td>\n",
       "      <td>Very favorably</td>\n",
       "      <td>I don't understand this question</td>\n",
       "      <td>No</td>\n",
       "      <td>NaN</td>\n",
       "      <td>Yes</td>\n",
       "      <td>Male</td>\n",
       "      <td>18-29</td>\n",
       "      <td>$100,000 - $149,999</td>\n",
       "      <td>Some college or Associate degree</td>\n",
       "      <td>West North Central</td>\n",
       "    </tr>\n",
       "    <tr>\n",
       "      <th>4</th>\n",
       "      <td>3292731220</td>\n",
       "      <td>True</td>\n",
       "      <td>True</td>\n",
       "      <td>True</td>\n",
       "      <td>True</td>\n",
       "      <td>True</td>\n",
       "      <td>True</td>\n",
       "      <td>True</td>\n",
       "      <td>True</td>\n",
       "      <td>5.0</td>\n",
       "      <td>...</td>\n",
       "      <td>Somewhat favorably</td>\n",
       "      <td>Greedo</td>\n",
       "      <td>Yes</td>\n",
       "      <td>No</td>\n",
       "      <td>No</td>\n",
       "      <td>Male</td>\n",
       "      <td>18-29</td>\n",
       "      <td>$100,000 - $149,999</td>\n",
       "      <td>Some college or Associate degree</td>\n",
       "      <td>West North Central</td>\n",
       "    </tr>\n",
       "  </tbody>\n",
       "</table>\n",
       "<p>5 rows × 38 columns</p>\n",
       "</div>"
      ],
      "text/plain": [
       "   RespondentID  Have you seen any of the 6 films in the Star Wars franchise?  \\\n",
       "0    3292879998                                               True              \n",
       "1    3292879538                                              False              \n",
       "2    3292765271                                               True              \n",
       "3    3292763116                                               True              \n",
       "4    3292731220                                               True              \n",
       "\n",
       "  Do you consider yourself to be a fan of the Star Wars film franchise?  \\\n",
       "0                                               True                      \n",
       "1                                                NaN                      \n",
       "2                                              False                      \n",
       "3                                               True                      \n",
       "4                                               True                      \n",
       "\n",
       "   seen_1  seen_2  seen_3  seen_4  seen_5  seen_6  ranking_1  ...  \\\n",
       "0    True    True    True    True    True    True        3.0  ...   \n",
       "1   False   False   False   False   False   False        NaN  ...   \n",
       "2    True    True    True   False   False   False        1.0  ...   \n",
       "3    True    True    True    True    True    True        5.0  ...   \n",
       "4    True    True    True    True    True    True        5.0  ...   \n",
       "\n",
       "          Unnamed: 28       Which character shot first?  \\\n",
       "0      Very favorably  I don't understand this question   \n",
       "1                 NaN                               NaN   \n",
       "2    Unfamiliar (N/A)  I don't understand this question   \n",
       "3      Very favorably  I don't understand this question   \n",
       "4  Somewhat favorably                            Greedo   \n",
       "\n",
       "   Are you familiar with the Expanded Universe?  \\\n",
       "0                                           Yes   \n",
       "1                                           NaN   \n",
       "2                                            No   \n",
       "3                                            No   \n",
       "4                                           Yes   \n",
       "\n",
       "   Do you consider yourself to be a fan of the Expanded Universe?  \\\n",
       "0                                                 No                \n",
       "1                                                NaN                \n",
       "2                                                NaN                \n",
       "3                                                NaN                \n",
       "4                                                 No                \n",
       "\n",
       "   Do you consider yourself to be a fan of the Star Trek franchise? Gender  \\\n",
       "0                                                 No                  Male   \n",
       "1                                                Yes                  Male   \n",
       "2                                                 No                  Male   \n",
       "3                                                Yes                  Male   \n",
       "4                                                 No                  Male   \n",
       "\n",
       "     Age     Household Income                         Education  \\\n",
       "0  18-29                  NaN                High school degree   \n",
       "1  18-29         $0 - $24,999                   Bachelor degree   \n",
       "2  18-29         $0 - $24,999                High school degree   \n",
       "3  18-29  $100,000 - $149,999  Some college or Associate degree   \n",
       "4  18-29  $100,000 - $149,999  Some college or Associate degree   \n",
       "\n",
       "  Location (Census Region)  \n",
       "0           South Atlantic  \n",
       "1       West South Central  \n",
       "2       West North Central  \n",
       "3       West North Central  \n",
       "4       West North Central  \n",
       "\n",
       "[5 rows x 38 columns]"
      ]
     },
     "execution_count": 10,
     "metadata": {},
     "output_type": "execute_result"
    }
   ],
   "source": [
    "star_wars.head()"
   ]
  },
  {
   "cell_type": "code",
   "execution_count": 11,
   "id": "3902b3ff",
   "metadata": {},
   "outputs": [
    {
     "data": {
      "text/html": [
       "<div>\n",
       "<style scoped>\n",
       "    .dataframe tbody tr th:only-of-type {\n",
       "        vertical-align: middle;\n",
       "    }\n",
       "\n",
       "    .dataframe tbody tr th {\n",
       "        vertical-align: top;\n",
       "    }\n",
       "\n",
       "    .dataframe thead th {\n",
       "        text-align: right;\n",
       "    }\n",
       "</style>\n",
       "<table border=\"1\" class=\"dataframe\">\n",
       "  <thead>\n",
       "    <tr style=\"text-align: right;\">\n",
       "      <th></th>\n",
       "      <th>RespondentID</th>\n",
       "      <th>ranking_1</th>\n",
       "      <th>ranking_2</th>\n",
       "      <th>ranking_3</th>\n",
       "      <th>ranking_4</th>\n",
       "      <th>ranking_5</th>\n",
       "      <th>ranking_6</th>\n",
       "    </tr>\n",
       "  </thead>\n",
       "  <tbody>\n",
       "    <tr>\n",
       "      <th>count</th>\n",
       "      <td>1.186000e+03</td>\n",
       "      <td>835.000000</td>\n",
       "      <td>836.000000</td>\n",
       "      <td>835.000000</td>\n",
       "      <td>836.000000</td>\n",
       "      <td>836.000000</td>\n",
       "      <td>836.000000</td>\n",
       "    </tr>\n",
       "    <tr>\n",
       "      <th>mean</th>\n",
       "      <td>3.290128e+09</td>\n",
       "      <td>3.732934</td>\n",
       "      <td>4.087321</td>\n",
       "      <td>4.341317</td>\n",
       "      <td>3.272727</td>\n",
       "      <td>2.513158</td>\n",
       "      <td>3.047847</td>\n",
       "    </tr>\n",
       "    <tr>\n",
       "      <th>std</th>\n",
       "      <td>1.055639e+06</td>\n",
       "      <td>1.656122</td>\n",
       "      <td>1.365365</td>\n",
       "      <td>1.400464</td>\n",
       "      <td>1.825901</td>\n",
       "      <td>1.578620</td>\n",
       "      <td>1.666897</td>\n",
       "    </tr>\n",
       "    <tr>\n",
       "      <th>min</th>\n",
       "      <td>3.288373e+09</td>\n",
       "      <td>1.000000</td>\n",
       "      <td>1.000000</td>\n",
       "      <td>1.000000</td>\n",
       "      <td>1.000000</td>\n",
       "      <td>1.000000</td>\n",
       "      <td>1.000000</td>\n",
       "    </tr>\n",
       "    <tr>\n",
       "      <th>25%</th>\n",
       "      <td>3.289451e+09</td>\n",
       "      <td>3.000000</td>\n",
       "      <td>3.000000</td>\n",
       "      <td>3.000000</td>\n",
       "      <td>2.000000</td>\n",
       "      <td>1.000000</td>\n",
       "      <td>2.000000</td>\n",
       "    </tr>\n",
       "    <tr>\n",
       "      <th>50%</th>\n",
       "      <td>3.290147e+09</td>\n",
       "      <td>4.000000</td>\n",
       "      <td>4.000000</td>\n",
       "      <td>5.000000</td>\n",
       "      <td>3.000000</td>\n",
       "      <td>2.000000</td>\n",
       "      <td>3.000000</td>\n",
       "    </tr>\n",
       "    <tr>\n",
       "      <th>75%</th>\n",
       "      <td>3.290814e+09</td>\n",
       "      <td>5.000000</td>\n",
       "      <td>5.000000</td>\n",
       "      <td>6.000000</td>\n",
       "      <td>5.000000</td>\n",
       "      <td>3.000000</td>\n",
       "      <td>4.000000</td>\n",
       "    </tr>\n",
       "    <tr>\n",
       "      <th>max</th>\n",
       "      <td>3.292880e+09</td>\n",
       "      <td>6.000000</td>\n",
       "      <td>6.000000</td>\n",
       "      <td>6.000000</td>\n",
       "      <td>6.000000</td>\n",
       "      <td>6.000000</td>\n",
       "      <td>6.000000</td>\n",
       "    </tr>\n",
       "  </tbody>\n",
       "</table>\n",
       "</div>"
      ],
      "text/plain": [
       "       RespondentID   ranking_1   ranking_2   ranking_3   ranking_4  \\\n",
       "count  1.186000e+03  835.000000  836.000000  835.000000  836.000000   \n",
       "mean   3.290128e+09    3.732934    4.087321    4.341317    3.272727   \n",
       "std    1.055639e+06    1.656122    1.365365    1.400464    1.825901   \n",
       "min    3.288373e+09    1.000000    1.000000    1.000000    1.000000   \n",
       "25%    3.289451e+09    3.000000    3.000000    3.000000    2.000000   \n",
       "50%    3.290147e+09    4.000000    4.000000    5.000000    3.000000   \n",
       "75%    3.290814e+09    5.000000    5.000000    6.000000    5.000000   \n",
       "max    3.292880e+09    6.000000    6.000000    6.000000    6.000000   \n",
       "\n",
       "        ranking_5   ranking_6  \n",
       "count  836.000000  836.000000  \n",
       "mean     2.513158    3.047847  \n",
       "std      1.578620    1.666897  \n",
       "min      1.000000    1.000000  \n",
       "25%      1.000000    2.000000  \n",
       "50%      2.000000    3.000000  \n",
       "75%      3.000000    4.000000  \n",
       "max      6.000000    6.000000  "
      ]
     },
     "execution_count": 11,
     "metadata": {},
     "output_type": "execute_result"
    }
   ],
   "source": [
    "star_wars.describe()"
   ]
  },
  {
   "cell_type": "markdown",
   "id": "875902ee",
   "metadata": {},
   "source": [
    "# The ranking mean show that the movie 5 had the lowest score, meaning that is was the best movie compared to the others. This movie is the empire strikes back."
   ]
  },
  {
   "cell_type": "code",
   "execution_count": 12,
   "id": "f4c993e5",
   "metadata": {},
   "outputs": [],
   "source": [
    "rank_columns = star_wars.columns[9:15]"
   ]
  },
  {
   "cell_type": "code",
   "execution_count": 13,
   "id": "351986a2",
   "metadata": {},
   "outputs": [
    {
     "data": {
      "text/plain": [
       "ranking_1    3.732934\n",
       "ranking_2    4.087321\n",
       "ranking_3    4.341317\n",
       "ranking_4    3.272727\n",
       "ranking_5    2.513158\n",
       "ranking_6    3.047847\n",
       "dtype: float64"
      ]
     },
     "execution_count": 13,
     "metadata": {},
     "output_type": "execute_result"
    }
   ],
   "source": [
    "#find highest-ranked movie\n",
    "means = star_wars[rank_columns].mean()\n",
    "means"
   ]
  },
  {
   "cell_type": "code",
   "execution_count": 14,
   "id": "a79f3975",
   "metadata": {},
   "outputs": [
    {
     "data": {
      "image/png": "[encoded data removed]",
      "text/plain": [
       "<Figure size 432x288 with 1 Axes>"
      ]
     },
     "metadata": {
      "needs_background": "light"
     },
     "output_type": "display_data"
    }
   ],
   "source": [
    "names = ['Ep I', 'Ep II', 'Ep III', 'Ep IV', 'Ep V', 'Ep VI']\n",
    "\n",
    "plt.bar(names, means)\n",
    "plt.title(\"Average ranking for each movie (lower = better)\")\n",
    "plt.xlabel(\"Episodes\")\n",
    "plt.ylabel(\"Average Ranking\")\n",
    "plt.show()"
   ]
  },
  {
   "cell_type": "markdown",
   "id": "a9f97841",
   "metadata": {},
   "source": [
    "# How many people saw the movies?"
   ]
  },
  {
   "cell_type": "code",
   "execution_count": 15,
   "id": "5daff0f8",
   "metadata": {},
   "outputs": [],
   "source": [
    "seen_columns = star_wars.columns[3:9]"
   ]
  },
  {
   "cell_type": "code",
   "execution_count": 16,
   "id": "a681d444",
   "metadata": {},
   "outputs": [
    {
     "data": {
      "text/plain": [
       "seen_1    673\n",
       "seen_2    571\n",
       "seen_3    550\n",
       "seen_4    607\n",
       "seen_5    758\n",
       "seen_6    738\n",
       "dtype: int64"
      ]
     },
     "execution_count": 16,
     "metadata": {},
     "output_type": "execute_result"
    }
   ],
   "source": [
    "add = star_wars[seen_columns].sum()\n",
    "add"
   ]
  },
  {
   "cell_type": "code",
   "execution_count": 17,
   "id": "7f44cca6",
   "metadata": {},
   "outputs": [
    {
     "data": {
      "image/png": "[encoded data removed]",
      "text/plain": [
       "<Figure size 432x288 with 1 Axes>"
      ]
     },
     "metadata": {
      "needs_background": "light"
     },
     "output_type": "display_data"
    }
   ],
   "source": [
    "names = ['Ep I', 'Ep II', 'Ep III', 'Ep IV', 'Ep V', 'Ep VI']\n",
    "\n",
    "plt.bar(names, add)\n",
    "plt.title(\"How many people saw the movie?\")\n",
    "plt.xlabel(\"Episodes\")\n",
    "plt.ylabel(\"People\")\n",
    "plt.show()"
   ]
  },
  {
   "cell_type": "markdown",
   "id": "0ffd76fe",
   "metadata": {},
   "source": [
    "# The most seen movie was fifth one."
   ]
  },
  {
   "cell_type": "markdown",
   "id": "47a0a25b",
   "metadata": {},
   "source": [
    "## How many males and females saw the movie:"
   ]
  },
  {
   "cell_type": "code",
   "execution_count": 18,
   "id": "5149931c",
   "metadata": {},
   "outputs": [],
   "source": [
    "males = star_wars[star_wars[\"Gender\"] == \"Male\"]\n",
    "females = star_wars[star_wars[\"Gender\"] == \"Female\"]"
   ]
  },
  {
   "cell_type": "code",
   "execution_count": 19,
   "id": "28f1786d",
   "metadata": {},
   "outputs": [
    {
     "data": {
      "text/plain": [
       "seen_1    361\n",
       "seen_2    323\n",
       "seen_3    317\n",
       "seen_4    342\n",
       "seen_5    392\n",
       "seen_6    387\n",
       "dtype: int64"
      ]
     },
     "execution_count": 19,
     "metadata": {},
     "output_type": "execute_result"
    }
   ],
   "source": [
    "males_add = males[seen_columns].sum()\n",
    "males_add"
   ]
  },
  {
   "cell_type": "code",
   "execution_count": 20,
   "id": "4c64d413",
   "metadata": {},
   "outputs": [
    {
     "data": {
      "text/plain": [
       "seen_1    298\n",
       "seen_2    237\n",
       "seen_3    222\n",
       "seen_4    255\n",
       "seen_5    353\n",
       "seen_6    338\n",
       "dtype: int64"
      ]
     },
     "execution_count": 20,
     "metadata": {},
     "output_type": "execute_result"
    }
   ],
   "source": [
    "females_add = females[seen_columns].sum()\n",
    "females_add"
   ]
  },
  {
   "cell_type": "code",
   "execution_count": 21,
   "id": "6917e49d",
   "metadata": {},
   "outputs": [
    {
     "data": {
      "image/png": "[encoded data removed]",
      "text/plain": [
       "<Figure size 432x288 with 1 Axes>"
      ]
     },
     "metadata": {
      "needs_background": "light"
     },
     "output_type": "display_data"
    }
   ],
   "source": [
    "names = ['Ep I', 'Ep II', 'Ep III', 'Ep IV', 'Ep V', 'Ep VI']\n",
    "ind = np.arange(len(names)) #number of bars to show\n",
    "\n",
    "#plot bar chart\n",
    "width = 0.35\n",
    "plt.bar(ind, males_add, width, label=\"Males\")\n",
    "plt.bar(ind+width, females_add, width, label=\"Females\")\n",
    "plt.xticks(ind+width / 2, names)\n",
    "plt.title(\"Who saw the movie? (by gender)\")\n",
    "plt.xlabel(\"Episode\")\n",
    "plt.ylabel(\"Sum\")\n",
    "plt.legend(loc=\"best\")\n",
    "plt.show()"
   ]
  }
 ],
 "metadata": {
  "kernelspec": {
   "display_name": "Python 3 (ipykernel)",
   "language": "python",
   "name": "python3"
  },
  "language_info": {
   "codemirror_mode": {
    "name": "ipython",
    "version": 3
   },
   "file_extension": ".py",
   "mimetype": "text/x-python",
   "name": "python",
   "nbconvert_exporter": "python",
   "pygments_lexer": "ipython3",
   "version": "3.9.7"
  }
 },
 "nbformat": 4,
 "nbformat_minor": 5
}
