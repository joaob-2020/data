{
 "cells": [
  {
   "cell_type": "markdown",
   "id": "f3b4a1ac",
   "metadata": {},
   "source": [
    "# The aim of this project is to analize this data and determine if the person would survive or not to the disaster using machine learning models.\n",
    "# The competition and dataset is in: https://www.kaggle.com/c/titanic"
   ]
  },
  {
   "cell_type": "code",
   "execution_count": 1,
   "id": "34a51cbf",
   "metadata": {},
   "outputs": [],
   "source": [
    "import pandas as pd\n",
    "import numpy as np\n",
    "import matplotlib.pyplot as plt\n",
    "import seaborn as sns\n",
    "import operator\n",
    "from sklearn.neighbors import KNeighborsRegressor\n",
    "from sklearn.model_selection import KFold, cross_val_score, train_test_split, StratifiedKFold\n",
    "from sklearn.metrics import mean_squared_error\n",
    "from sklearn.metrics import accuracy_score\n",
    "\n",
    "from sklearn.linear_model import LogisticRegression\n",
    "from sklearn.svm import SVC\n",
    "from sklearn.ensemble import RandomForestClassifier\n",
    "from sklearn.neighbors import KNeighborsRegressor\n",
    "from sklearn.model_selection import cross_val_score"
   ]
  },
  {
   "cell_type": "code",
   "execution_count": 16,
   "id": "d2fef22a",
   "metadata": {},
   "outputs": [],
   "source": [
    "train = pd.read_csv(\"C://Users//johng//Desktop//data//competition//titanic//train.csv\", encoding=\"utf-8\")\n",
    "test = pd.read_csv(\"C://Users//johng//Desktop//data//competition//titanic//test.csv\", encoding=\"utf-8\")"
   ]
  },
  {
   "cell_type": "code",
   "execution_count": 12,
   "id": "b83f22c2",
   "metadata": {},
   "outputs": [],
   "source": [
    "def process_age(df,cut_points,label_names):\n",
    "    df[\"Age\"] = df[\"Age\"].dropna()\n",
    "    df[\"Age_categories\"] = pd.cut(df[\"Age\"],cut_points,labels=label_names)\n",
    "    return df\n",
    "\n",
    "cut_points = [-1, 0, 5, 12, 18, 35, 60, 100]\n",
    "label_names = [\"Missing\", \"Infant\", \"Child\", \"Teenager\", \"Young Adult\", \"Adult\", \"Senior\"]\n",
    "\n",
    "train = process_age(train, cut_points, label_names)\n",
    "test = process_age(test,cut_points, label_names)"
   ]
  },
  {
   "cell_type": "code",
   "execution_count": 4,
   "id": "7edcabec",
   "metadata": {},
   "outputs": [],
   "source": [
    "def create_dummies(df,column_name):\n",
    "    dummies = pd.get_dummies(df[column_name],prefix=column_name)\n",
    "    df = pd.concat([df,dummies],axis=1)\n",
    "    return df\n",
    "\n",
    "train = create_dummies(train,\"Pclass\")\n",
    "test = create_dummies(test,\"Pclass\")\n",
    "\n",
    "features = [\"Sex\", \"Age_categories\"]\n",
    "\n",
    "for f in features:\n",
    "    train = create_dummies(train, f)\n",
    "    test = create_dummies(test, f)"
   ]
  },
  {
   "cell_type": "code",
   "execution_count": 5,
   "id": "f57a2b19",
   "metadata": {},
   "outputs": [],
   "source": [
    "columns = ['Pclass_1', 'Pclass_2', 'Pclass_3', 'Sex_female', 'Sex_male',\n",
    "       'Age_categories_Missing','Age_categories_Infant',\n",
    "       'Age_categories_Child', 'Age_categories_Teenager',\n",
    "       'Age_categories_Young Adult', 'Age_categories_Adult',\n",
    "       'Age_categories_Senior']\n",
    "\n",
    "holdout = test # from now on we will refer to this\n",
    "               # dataframe as the holdout data"
   ]
  },
  {
   "cell_type": "code",
   "execution_count": 6,
   "id": "61580214",
   "metadata": {},
   "outputs": [],
   "source": [
    "X = train[columns]\n",
    "y = train[\"Survived\"]\n",
    "\n",
    "X_train, X_test, y_train, y_test = train_test_split(X, y, test_size=0.2, random_state=0)"
   ]
  },
  {
   "cell_type": "code",
   "execution_count": 7,
   "id": "9db3582f",
   "metadata": {},
   "outputs": [
    {
     "name": "stdout",
     "output_type": "stream",
     "text": [
      "Logistic regression:  0.8034920634920635\n",
      "SVM:  0.801984126984127\n",
      "Random Forest:  0.8019444444444446\n",
      "KNN:  0.35497212362268465\n"
     ]
    }
   ],
   "source": [
    "num_folds = [x for x in range(2, 21)]\n",
    "for fold in num_folds:\n",
    "    scores_l = cross_val_score(LogisticRegression(), X_train, y_train, cv=fold)\n",
    "    scores_svm = cross_val_score(SVC(), X_train, y_train, cv=fold)\n",
    "    scores_rf = cross_val_score(RandomForestClassifier(n_estimators=fold), X_train, y_train, cv=fold)\n",
    "    scores_knn = cross_val_score(KNeighborsRegressor(n_neighbors=fold), X_train, y_train, cv=fold)\n",
    "    \n",
    "scores_l_mean = np.mean(scores_l)\n",
    "scores_svm_mean = np.mean(scores_svm)\n",
    "scores_rf_mean = np.mean(scores_rf)\n",
    "scores_knn_mean = np.mean(scores_knn)\n",
    "\n",
    "print(\"Logistic regression: \", scores_l_mean)\n",
    "print(\"SVM: \", scores_svm_mean)\n",
    "print(\"Random Forest: \", scores_rf_mean)\n",
    "print(\"KNN: \",scores_knn_mean)"
   ]
  },
  {
   "cell_type": "code",
   "execution_count": 8,
   "id": "346adfd1",
   "metadata": {},
   "outputs": [],
   "source": [
    "lr = LogisticRegression()\n",
    "lr.fit(X, y)\n",
    "holdout_predictions = lr.predict(holdout[columns])"
   ]
  },
  {
   "cell_type": "markdown",
   "id": "2b00edb6",
   "metadata": {},
   "source": [
    "# Logistic Regression: accuracy in Kaggle: 0.76315 against my accuracy with K-Fold of 0.80349. This indicates that the model is overfitting (high accuracy with seem data but not high accuracy over new data)."
   ]
  },
  {
   "cell_type": "code",
   "execution_count": 9,
   "id": "e7e1c710",
   "metadata": {},
   "outputs": [],
   "source": [
    "svm = SVC()\n",
    "svm.fit(X, y)\n",
    "holdout_predictions = svm.predict(holdout[columns])"
   ]
  },
  {
   "cell_type": "markdown",
   "id": "ab118891",
   "metadata": {},
   "source": [
    "# SVM: accuracy in Kaggle - 0.76555 against my accuracy with K-Fold of 0.80198. This indicates that the model is overfitting (high accuracy with seem data but not high accuracy over new data)."
   ]
  },
  {
   "cell_type": "code",
   "execution_count": 10,
   "id": "f23f586c",
   "metadata": {},
   "outputs": [],
   "source": [
    "rf = RandomForestClassifier()\n",
    "rf.fit(X, y)\n",
    "holdout_predictions = rf.predict(holdout[columns])"
   ]
  },
  {
   "cell_type": "markdown",
   "id": "108d09ea",
   "metadata": {},
   "source": [
    "# Random forest: accuracy in Kaggle - 0.76794 against my accuracy with K-Fold of 0.80619. This indicates that the model is overfitting (high accuracy with seem data but not high accuracy over new data)."
   ]
  },
  {
   "cell_type": "markdown",
   "id": "decbc725",
   "metadata": {},
   "source": [
    "# Submission file:"
   ]
  },
  {
   "cell_type": "code",
   "execution_count": 11,
   "id": "09581058",
   "metadata": {},
   "outputs": [],
   "source": [
    "submission_df = {\"PassengerId\": holdout[\"PassengerId\"],\n",
    "                 \"Survived\": holdout_predictions}\n",
    "submission = pd.DataFrame(submission_df)\n",
    "submission.to_csv(\"C://Users//johng//Desktop//data//competition//titanic//submission.csv\",index=False)"
   ]
  },
  {
   "cell_type": "markdown",
   "id": "8e33a97b",
   "metadata": {},
   "source": [
    "# ---------------------------------------------------------------------------------------------------------"
   ]
  },
  {
   "cell_type": "code",
   "execution_count": null,
   "id": "6894d4ff",
   "metadata": {},
   "outputs": [],
   "source": []
  }
 ],
 "metadata": {
  "kernelspec": {
   "display_name": "Python 3 (ipykernel)",
   "language": "python",
   "name": "python3"
  },
  "language_info": {
   "codemirror_mode": {
    "name": "ipython",
    "version": 3
   },
   "file_extension": ".py",
   "mimetype": "text/x-python",
   "name": "python",
   "nbconvert_exporter": "python",
   "pygments_lexer": "ipython3",
   "version": "3.9.7"
  }
 },
 "nbformat": 4,
 "nbformat_minor": 5
}
