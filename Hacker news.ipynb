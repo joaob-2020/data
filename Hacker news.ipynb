{
 "cells": [
  {
   "cell_type": "markdown",
   "id": "994b4977",
   "metadata": {},
   "source": [
    "# Hacker news startup analisys"
   ]
  },
  {
   "cell_type": "markdown",
   "id": "ecf5b354",
   "metadata": {},
   "source": [
    "### Hacker News is a site invested by Y Combinator. Y Combinator is a start-up incubator.\n",
    "### Hacker news is where user-submitted stories (known as \"posts\") receive votes and comments, similar to reddit.\n",
    "### Hacker news dataset: https://www.kaggle.com/hacker-news/hacker-news-posts"
   ]
  },
  {
   "cell_type": "code",
   "execution_count": 2,
   "id": "90bce431",
   "metadata": {},
   "outputs": [],
   "source": [
    "import datetime as dt\n",
    "from csv import reader\n",
    "\n",
    "hk_open = open(\"C://Users//johng//Desktop//data//HN_posts_year_to_Sep_26_2016.csv\", encoding='utf8')\n",
    "hk_read = reader(hk_open)\n",
    "hk_apps_data = list(hk_read)"
   ]
  },
  {
   "cell_type": "markdown",
   "id": "e0989211",
   "metadata": {},
   "source": [
    "#### Remove rows with 0 comments"
   ]
  },
  {
   "cell_type": "code",
   "execution_count": 3,
   "id": "c0304a60",
   "metadata": {},
   "outputs": [
    {
     "name": "stdout",
     "output_type": "stream",
     "text": [
      "[['id', 'title', 'url', 'num_points', 'num_comments', 'author', 'created_at'], ['12578975', 'Saving the Hassle of Shopping', 'https://blog.menswr.com/2016/09/07/whats-new-with-your-style-feed/', '1', '1', 'bdoux', '9/26/2016 3:13'], ['12578908', 'Ask HN: What TLD do you use for local development?', '', '4', '7', 'Sevrene', '9/26/2016 2:53'], ['12578822', 'Amazons Algorithms Dont Find You the Best Deals', 'https://www.technologyreview.com/s/602442/amazons-algorithms-dont-find-you-the-best-deals/', '1', '1', 'yarapavan', '9/26/2016 2:26'], ['12578694', 'Emergency dose of epinephrine that does not cost an arm and a leg', 'http://m.imgur.com/gallery/th6Ua', '2', '1', 'dredmorbius', '9/26/2016 1:54']]\n"
     ]
    }
   ],
   "source": [
    "hk_with_comments = []\n",
    "for row in hk_apps_data:\n",
    "    if row[4] != '0':\n",
    "        hk_with_comments.append(row)\n",
    "        \n",
    "print(hk_with_comments[:5])"
   ]
  },
  {
   "cell_type": "markdown",
   "id": "85d04735",
   "metadata": {},
   "source": [
    "### Function to read data"
   ]
  },
  {
   "cell_type": "code",
   "execution_count": 7,
   "id": "b6d1c731",
   "metadata": {},
   "outputs": [
    {
     "name": "stdout",
     "output_type": "stream",
     "text": [
      "['id', 'title', 'url', 'num_points', 'num_comments', 'author', 'created_at']\n",
      "\n",
      "\n",
      "['12579008', 'You have two days to comment if you want stem cells to be classified as your own', 'http://www.regulations.gov/document?D=FDA-2015-D-3719-0018', '1', '0', 'altstar', '9/26/2016 3:26']\n",
      "\n",
      "\n",
      "Number of rows: 293120\n",
      "Number of columns: 7\n",
      "\n",
      "\n",
      "['id', 'title', 'url', 'num_points', 'num_comments', 'author', 'created_at']\n",
      "\n",
      "\n",
      "['12578975', 'Saving the Hassle of Shopping', 'https://blog.menswr.com/2016/09/07/whats-new-with-your-style-feed/', '1', '1', 'bdoux', '9/26/2016 3:13']\n",
      "\n",
      "\n",
      "Number of rows: 80402\n",
      "Number of columns: 7\n"
     ]
    }
   ],
   "source": [
    "def extract_data(dataset, start, end, header=False):\n",
    "    dataset_slice = dataset[start:end]\n",
    "    for row in dataset_slice:\n",
    "        print(row)\n",
    "        print('\\n')\n",
    "\n",
    "    if header:\n",
    "        print('Number of rows:', len(dataset))\n",
    "        print('Number of columns:', len(dataset[0]))\n",
    "\n",
    "extract_data(hk_apps_data, 0, 2, True)\n",
    "print('\\n')\n",
    "extract_data(hk_with_comments, 0, 2, True)"
   ]
  },
  {
   "cell_type": "markdown",
   "id": "9080541d",
   "metadata": {},
   "source": [
    "#### Remove Header from dataframe"
   ]
  },
  {
   "cell_type": "code",
   "execution_count": 13,
   "id": "7b85714f",
   "metadata": {},
   "outputs": [
    {
     "name": "stdout",
     "output_type": "stream",
     "text": [
      "[['12578975', 'Saving the Hassle of Shopping', 'https://blog.menswr.com/2016/09/07/whats-new-with-your-style-feed/', '1', '1', 'bdoux', '9/26/2016 3:13'], ['12578908', 'Ask HN: What TLD do you use for local development?', '', '4', '7', 'Sevrene', '9/26/2016 2:53'], ['12578822', 'Amazons Algorithms Dont Find You the Best Deals', 'https://www.technologyreview.com/s/602442/amazons-algorithms-dont-find-you-the-best-deals/', '1', '1', 'yarapavan', '9/26/2016 2:26'], ['12578694', 'Emergency dose of epinephrine that does not cost an arm and a leg', 'http://m.imgur.com/gallery/th6Ua', '2', '1', 'dredmorbius', '9/26/2016 1:54'], ['12578624', 'Phone Makers Could Cut Off Drivers. So Why Dont They?', 'http://www.nytimes.com/2016/09/25/technology/phone-makers-could-cut-off-drivers-so-why-dont-they.html', '4', '1', 'danso', '9/26/2016 1:37']]\n"
     ]
    }
   ],
   "source": [
    "hn=[]\n",
    "header = hk_with_comments[:1]\n",
    "for row in hk_with_comments[1:]:\n",
    "    hn.append(row)\n",
    "\n",
    "print(hn[:5])"
   ]
  },
  {
   "cell_type": "markdown",
   "id": "99cf108f",
   "metadata": {},
   "source": [
    "#### Show 'ask HN' and 'Show HN' posts"
   ]
  },
  {
   "cell_type": "code",
   "execution_count": 50,
   "id": "e3e5aa90",
   "metadata": {},
   "outputs": [
    {
     "name": "stdout",
     "output_type": "stream",
     "text": [
      "ask posts: 6911\n",
      "show posts: 5059\n",
      "other posts: 68431\n",
      "all posts (without the header column): 80401\n"
     ]
    }
   ],
   "source": [
    "ask_posts = []\n",
    "show_posts = []\n",
    "other_posts = []\n",
    "for row in hn:\n",
    "    title = row[1].lower()    \n",
    "    if title.startswith('ask hn'):\n",
    "        ask_posts.append(row)\n",
    "    elif title.startswith('show hn'):\n",
    "        show_posts.append(row)\n",
    "    else:\n",
    "        other_posts.append(row)\n",
    "\n",
    "ask = len(ask_posts)\n",
    "show = len(show_posts)\n",
    "other = len(other_posts)\n",
    "all_posts = ask + show + other\n",
    "\n",
    "print('ask posts:', ask)\n",
    "print('show posts:', show)\n",
    "print('other posts:', other)\n",
    "print('all posts (without the header column):', all_posts)"
   ]
  },
  {
   "cell_type": "markdown",
   "id": "bf050ec8",
   "metadata": {},
   "source": [
    "#### Which one, Ask HN or Show HN posts, receive more comments on average?"
   ]
  },
  {
   "cell_type": "code",
   "execution_count": 63,
   "id": "eb4ce04d",
   "metadata": {},
   "outputs": [
    {
     "name": "stdout",
     "output_type": "stream",
     "text": [
      "14\n",
      "10\n"
     ]
    }
   ],
   "source": [
    "total_ask_comments = 0\n",
    "total_show_comments = 0\n",
    "for row in ask_posts:\n",
    "    comments = int(row[4])\n",
    "    total_ask_comments = total_ask_comments + comments\n",
    "    avg_ask_comments = (total_ask_comments / ask) \n",
    "    \n",
    "for row in show_posts:\n",
    "    comments = int(row[4])\n",
    "    total_show_comments = total_show_comments + comments\n",
    "    avg_show_comments = (total_show_comments / show) \n",
    "\n",
    "    \n",
    "    \n",
    "print(round(avg_ask_comments))\n",
    "print(round(avg_show_comments))\n",
    "    \n",
    "    "
   ]
  },
  {
   "cell_type": "markdown",
   "id": "57d0ed23",
   "metadata": {},
   "source": [
    "#### Ask posts on average have more comments than show posts. The remaining analysis will be focused on ask_posts. "
   ]
  },
  {
   "cell_type": "code",
   "execution_count": 120,
   "id": "629593bc",
   "metadata": {},
   "outputs": [
    {
     "name": "stdout",
     "output_type": "stream",
     "text": [
      "The counts by hour were: {2: 227, 1: 223, 22: 287, 21: 407, 19: 420, 17: 404, 15: 467, 14: 378, 13: 326, 11: 251, 10: 219, 9: 176, 7: 157, 3: 212, 16: 415, 8: 190, 0: 231, 23: 276, 20: 392, 18: 452, 12: 274, 4: 186, 6: 176, 5: 165}\n",
      "\n",
      "\n",
      "The comments by hour were: {2: 2996, 1: 2089, 22: 3372, 21: 4500, 19: 3954, 17: 5547, 15: 18525, 14: 4972, 13: 7245, 11: 2797, 10: 3013, 9: 1477, 7: 1585, 3: 2154, 16: 4466, 8: 2362, 0: 2277, 23: 2297, 20: 4462, 18: 4877, 12: 4234, 4: 2360, 6: 1587, 5: 1838}\n"
     ]
    }
   ],
   "source": [
    "counts_by_hour = {}\n",
    "comments_by_hour = {}\n",
    "\n",
    "\n",
    "result_list = []\n",
    "for row in ask_posts:\n",
    "    created_at = row[6]\n",
    "    num_comments = int(row[4])\n",
    "    result_list.append([created_at, num_comments]) \n",
    "    \n",
    "for row in result_list:\n",
    "    date = row[0]\n",
    "    comments_number = row[1]\n",
    "    date = dt.datetime.strptime(row[0], \"%m/%d/%Y %H:%M\")   \n",
    "    h = date.hour\n",
    "    if h in counts_by_hour:\n",
    "        counts_by_hour[h] += 1\n",
    "        comments_by_hour[h] += comments_number\n",
    "    else:\n",
    "        counts_by_hour[h] = 1\n",
    "        comments_by_hour[h] = comments_number\n",
    "        \n",
    "#check to see if counts and comments by hour were successfully created\n",
    "\n",
    "\n",
    "print(\"The counts by hour were:\",counts_by_hour)\n",
    "print(\"\\n\")\n",
    "print(\"The comments by hour were:\",comments_by_hour)"
   ]
  },
  {
   "cell_type": "markdown",
   "id": "db4f4be5",
   "metadata": {},
   "source": [
    "#### Average comments by hour"
   ]
  },
  {
   "cell_type": "code",
   "execution_count": 128,
   "id": "70a3ee6d",
   "metadata": {},
   "outputs": [
    {
     "name": "stdout",
     "output_type": "stream",
     "text": [
      "[[2, 13.198237885462555], [1, 9.367713004484305], [22, 11.749128919860627], [21, 11.056511056511056], [19, 9.414285714285715], [17, 13.73019801980198], [15, 39.66809421841542], [14, 13.153439153439153], [13, 22.2239263803681], [11, 11.143426294820717], [10, 13.757990867579908], [9, 8.392045454545455], [7, 10.095541401273886], [3, 10.160377358490566], [16, 10.76144578313253], [8, 12.43157894736842], [0, 9.857142857142858], [23, 8.322463768115941], [20, 11.38265306122449], [18, 10.789823008849558], [12, 15.452554744525548], [4, 12.688172043010752], [6, 9.017045454545455], [5, 11.139393939393939]]\n"
     ]
    }
   ],
   "source": [
    "avg_by_hour = []\n",
    "\n",
    "for hour in counts_by_hour:\n",
    "    post_avg = comments_by_hour[hour] / counts_by_hour[hour]\n",
    "    avg_by_hour.append([hour,post_avg])\n",
    "\n",
    "\n",
    "print(avg_by_hour)"
   ]
  },
  {
   "cell_type": "markdown",
   "id": "f824e641",
   "metadata": {},
   "source": [
    "#### Swap values"
   ]
  },
  {
   "cell_type": "code",
   "execution_count": 138,
   "id": "f94bb9c7",
   "metadata": {},
   "outputs": [
    {
     "name": "stdout",
     "output_type": "stream",
     "text": [
      "[[13.198237885462555, 2], [9.367713004484305, 1], [11.749128919860627, 22], [11.056511056511056, 21], [9.414285714285715, 19], [13.73019801980198, 17], [39.66809421841542, 15], [13.153439153439153, 14], [22.2239263803681, 13], [11.143426294820717, 11], [13.757990867579908, 10], [8.392045454545455, 9], [10.095541401273886, 7], [10.160377358490566, 3], [10.76144578313253, 16], [12.43157894736842, 8], [9.857142857142858, 0], [8.322463768115941, 23], [11.38265306122449, 20], [10.789823008849558, 18], [15.452554744525548, 12], [12.688172043010752, 4], [9.017045454545455, 6], [11.139393939393939, 5]]\n"
     ]
    }
   ],
   "source": [
    "swap_avg_by_hour = []\n",
    "for row in avg_by_hour:\n",
    "    swap_avg_by_hour.append([row[1], row[0]])  "
   ]
  },
  {
   "cell_type": "markdown",
   "id": "2c811314",
   "metadata": {},
   "source": [
    "#### Sort"
   ]
  },
  {
   "cell_type": "code",
   "execution_count": 141,
   "id": "4130a5d2",
   "metadata": {},
   "outputs": [
    {
     "name": "stdout",
     "output_type": "stream",
     "text": [
      "The Top 5 Hours for Ask Post Comments:\n",
      "15:00 39.67 average comments per post\n",
      "13:00 22.22 average comments per post\n",
      "12:00 15.45 average comments per post\n",
      "10:00 13.76 average comments per post\n",
      "17:00 13.73 average comments per post\n"
     ]
    }
   ],
   "source": [
    "sorted_swap_avg = sorted(swap_avg_by_hour, reverse = True)\n",
    "\n",
    "print(\"The Top 5 Hours for Ask Post Comments:\")\n",
    "\n",
    "#loop through the first five sorted values and format \n",
    "\n",
    "for row in sorted_swap_avg[:5]:\n",
    "    hour_form = dt.datetime.strptime(str(row[1]), \"%H\")\n",
    "    hour_form = hour_form.strftime(\"%H:%M\")\n",
    "    print(hour_form, '{:.2f}'.format(row[0]),'average comments per post')"
   ]
  },
  {
   "cell_type": "code",
   "execution_count": 142,
   "id": "f36909e6",
   "metadata": {},
   "outputs": [
    {
     "name": "stdout",
     "output_type": "stream",
     "text": [
      "Top 5 Hours for Ask Posts Comments (Time zone: PST, -3 from EST)\n",
      "12:00 39.67 average comments per post\n",
      "10:00 22.22 average comments per post\n",
      "09:00 15.45 average comments per post\n",
      "07:00 13.76 average comments per post\n",
      "14:00 13.73 average comments per post\n"
     ]
    }
   ],
   "source": [
    "#convert times to Pacific Standard Time-United States(PST)\n",
    "\n",
    "print('Top 5 Hours for Ask Posts Comments (Time zone: PST, -3 from EST)')\n",
    "for row in sorted_swap_avg[:5]:\n",
    "    # format the hours\n",
    "    \n",
    "    adj_time = (dt.datetime.strptime(str(row[1]), \"%H\") + dt.timedelta(hours = -3)).strftime(\"%H:%M\")\n",
    "    print(adj_time,'{:.2f}'.format(row[0]),'average comments per post')"
   ]
  },
  {
   "cell_type": "code",
   "execution_count": null,
   "id": "f1f5250b",
   "metadata": {},
   "outputs": [],
   "source": []
  }
 ],
 "metadata": {
  "kernelspec": {
   "display_name": "Python 3 (ipykernel)",
   "language": "python",
   "name": "python3"
  },
  "language_info": {
   "codemirror_mode": {
    "name": "ipython",
    "version": 3
   },
   "file_extension": ".py",
   "mimetype": "text/x-python",
   "name": "python",
   "nbconvert_exporter": "python",
   "pygments_lexer": "ipython3",
   "version": "3.9.7"
  }
 },
 "nbformat": 4,
 "nbformat_minor": 5
}
