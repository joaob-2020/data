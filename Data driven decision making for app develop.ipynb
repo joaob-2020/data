{
 "cells": [
  {
   "cell_type": "markdown",
   "id": "d4c25552",
   "metadata": {},
   "source": [
    "# Data driven decision making for app develop"
   ]
  },
  {
   "cell_type": "markdown",
   "id": "532d5f8c",
   "metadata": {},
   "source": [
    "### The company builds Android and IOS free mobile apps. The revenue comes from internal ads. The more users of those apps, more profit the company makes.\n",
    "\n",
    "### The aim of this work is by analysing profitable apps in Google play market and IOS store to determine which kind of apps attract more people. "
     "\n",
    "### iOS dataset: https://www.kaggle.com/ramamet4/app-store-apple-data-set-10k-apps\n",
    "### Google play dataset: https://www.kaggle.com/lava18/google-play-store-apps"
   ]
  },
  {
   "cell_type": "code",
   "execution_count": 1,
   "id": "441ce37e",
   "metadata": {},
   "outputs": [],
   "source": [
    "import pandas as pd\n",
    "from csv import reader\n",
    "\n",
    "ios_open = open(\"C://Users//johng//Desktop//data//AppleStore.csv\", encoding='utf8')\n",
    "ios_read = reader(ios_open)\n",
    "ios_apps_data = list(ios_read)\n",
    "\n",
    "play_open = open(\"C://Users//johng//Desktop//data//googleplaystore.csv\", encoding='utf8')\n",
    "play_read = reader(play_open)\n",
    "play_apps_data = list(play_read)\n"
   ]
  },
  {
   "cell_type": "markdown",
   "id": "ea3919aa",
   "metadata": {},
   "source": [
    "#### Function to read data "
   ]
  },
  {
   "cell_type": "code",
   "execution_count": 2,
   "id": "da4c2860",
   "metadata": {},
   "outputs": [
    {
     "name": "stdout",
     "output_type": "stream",
     "text": [
      "['id', 'track_name', 'size_bytes', 'currency', 'price', 'rating_count_tot', 'rating_count_ver', 'user_rating', 'user_rating_ver', 'ver', 'cont_rating', 'prime_genre', 'sup_devices.num', 'ipadSc_urls.num', 'lang.num', 'vpp_lic']\n",
      "\n",
      "\n",
      "['284882215', 'Facebook', '389879808', 'USD', '0.0', '2974676', '212', '3.5', '3.5', '95.0', '4+', 'Social Networking', '37', '1', '29', '1']\n",
      "\n",
      "\n",
      "['389801252', 'Instagram', '113954816', 'USD', '0.0', '2161558', '1289', '4.5', '4.0', '10.23', '12+', 'Photo & Video', '37', '0', '29', '1']\n",
      "\n",
      "\n",
      "['529479190', 'Clash of Clans', '116476928', 'USD', '0.0', '2130805', '579', '4.5', '4.5', '9.24.12', '9+', 'Games', '38', '5', '18', '1']\n",
      "\n",
      "\n",
      "Number of rows: 7198\n",
      "Number of columns: 16\n",
      "['App', 'Category', 'Rating', 'Reviews', 'Size', 'Installs', 'Type', 'Price', 'Content Rating', 'Genres', 'Last Updated', 'Current Ver', 'Android Ver']\n",
      "\n",
      "\n",
      "['Photo Editor & Candy Camera & Grid & ScrapBook', 'ART_AND_DESIGN', '4.1', '159', '19M', '10,000+', 'Free', '0', 'Everyone', 'Art & Design', 'January 7, 2018', '1.0.0', '4.0.3 and up']\n",
      "\n",
      "\n",
      "['Coloring book moana', 'ART_AND_DESIGN', '3.9', '967', '14M', '500,000+', 'Free', '0', 'Everyone', 'Art & Design;Pretend Play', 'January 15, 2018', '2.0.0', '4.0.3 and up']\n",
      "\n",
      "\n",
      "['U Launcher Lite – FREE Live Cool Themes, Hide Apps', 'ART_AND_DESIGN', '4.7', '87510', '8.7M', '5,000,000+', 'Free', '0', 'Everyone', 'Art & Design', 'August 1, 2018', '1.2.4', '4.0.3 and up']\n",
      "\n",
      "\n",
      "Number of rows: 10842\n",
      "Number of columns: 13\n"
     ]
    }
   ],
   "source": [
    "def extract_data(dataset, start, end, header=False):\n",
    "    dataset_slice = dataset[start:end]\n",
    "    for row in dataset_slice:\n",
    "        print(row)\n",
    "        print('\\n')\n",
    "\n",
    "    if header:\n",
    "        print('Number of rows:', len(dataset))\n",
    "        print('Number of columns:', len(dataset[0]))\n",
    "\n",
    "extract_data(ios_apps_data, 0, 4, True)\n",
    "extract_data(play_apps_data, 0, 4, True)"
   ]
  },
  {
   "cell_type": "code",
   "execution_count": 3,
   "id": "a7f46a35",
   "metadata": {},
   "outputs": [
    {
     "name": "stdout",
     "output_type": "stream",
     "text": [
      "['Market Update Helper', 'LIBRARIES_AND_DEMO', '4.1', '20145', '11k', '1,000,000+', 'Free', '0', 'Everyone', 'Libraries & Demo', 'February 12, 2013', '', '1.5 and up'] 1554\n",
      "['Life Made WI-Fi Touchscreen Photo Frame', '1.9', '19', '3.0M', '1,000+', 'Free', '0', 'Everyone', '', 'February 11, 2018', '1.0.19', '4.0 and up'] 10473\n"
     ]
    }
   ],
   "source": [
    "for i in range(len(play_apps_data)):\n",
    "    row = play_apps_data[i]\n",
    "    if '' in row:\n",
    "        print(row,i)"
   ]
  },
  {
   "cell_type": "markdown",
   "id": "f819bfd5",
   "metadata": {},
   "source": [
    "#### Remove the empty cell where the column 'genres' is empty"
   ]
  },
  {
   "cell_type": "code",
   "execution_count": 4,
   "id": "e54c97c9",
   "metadata": {},
   "outputs": [],
   "source": [
    "del play_apps_data[10473]"
   ]
  },
  {
   "cell_type": "markdown",
   "id": "2d5e10f3",
   "metadata": {},
   "source": [
    "## Removing duplicate entries"
   ]
  },
  {
   "cell_type": "markdown",
   "id": "0a32b6f9",
   "metadata": {},
   "source": [
    "#### Keep the rows that have the highest number of reviews because the higher the number of reviews, the more reliable the ratings."
   ]
  },
  {
   "cell_type": "code",
   "execution_count": 5,
   "id": "920352bb",
   "metadata": {},
   "outputs": [],
   "source": [
    "reviews_max = {}\n",
    "\n",
    "for app in play_apps_data:\n",
    "    name = app[0]\n",
    "    n_reviews = app[3]\n",
    "    \n",
    "    if name in reviews_max and reviews_max[name] < n_reviews:\n",
    "        reviews_max[name] = n_reviews\n",
    "        \n",
    "    elif name not in reviews_max:\n",
    "        reviews_max[name] = n_reviews\n",
    "        \n",
    "android_clean = []\n",
    "already_added = []\n",
    "\n",
    "for app in play_apps_data:\n",
    "    name = app[0]\n",
    "    n_reviews = app[3]\n",
    "    \n",
    "    if (reviews_max[name] == n_reviews) and (name not in already_added):\n",
    "        android_clean.append(app)\n",
    "        already_added.append(name)"
   ]
  },
  {
   "cell_type": "markdown",
   "id": "a012c5d9",
   "metadata": {},
   "source": [
    "#### Remove non-english apps"
   ]
  },
  {
   "cell_type": "code",
   "execution_count": 6,
   "id": "746c3f2f",
   "metadata": {},
   "outputs": [
    {
     "name": "stdout",
     "output_type": "stream",
     "text": [
      "False\n"
     ]
    }
   ],
   "source": [
    "\n",
    "def is_english (string):\n",
    "    counter = 0\n",
    "    \n",
    "    for char in string:\n",
    "        if ord(char) > 127:\n",
    "            counter += 1\n",
    "            \n",
    "        if counter > 3:\n",
    "            return False\n",
    "        \n",
    "    return True\n",
    "\n",
    "print(is_english('爱奇艺PPS -《欢乐颂2》电视剧热播'))"
   ]
  },
  {
   "cell_type": "code",
   "execution_count": 7,
   "id": "e8ef8a74",
   "metadata": {},
   "outputs": [],
   "source": [
    "play_english = []\n",
    "ios_english = []\n",
    "\n",
    "for app in android_clean:\n",
    "    name = app[0]\n",
    "    if is_english(name):\n",
    "        play_english.append(app)\n",
    "\n",
    "for app in ios_apps_data:\n",
    "    name = app[1]\n",
    "    if is_english(name):\n",
    "        ios_english.append(app)"
   ]
  },
  {
   "cell_type": "markdown",
   "id": "2e00e5e1",
   "metadata": {},
   "source": [
    "#### Maintain only free apps"
   ]
  },
  {
   "cell_type": "code",
   "execution_count": 8,
   "id": "acafd29f",
   "metadata": {},
   "outputs": [],
   "source": [
    "android_final = []\n",
    "ios_final = []\n",
    "\n",
    "for app in play_english:\n",
    "    price = app[7]\n",
    "    if price == '0':\n",
    "        android_final.append(app)\n",
    "        \n",
    "for app in ios_english:\n",
    "    price = app[4]\n",
    "    if price == '0.0':\n",
    "        ios_final.append(app)"
   ]
  },
  {
   "cell_type": "markdown",
   "id": "0bb4cc40",
   "metadata": {},
   "source": [
    "#### Define the frequency of apps in both datasets"
   ]
  },
  {
   "cell_type": "code",
   "execution_count": 9,
   "id": "babb4fd0",
   "metadata": {},
   "outputs": [],
   "source": [
    "def freq_table(dataset, index):\n",
    "    column_counting = {}\n",
    "    total = 0\n",
    "    \n",
    "    for row in dataset[1:]:\n",
    "        total += 1\n",
    "        column = row[index]\n",
    "        if column in column_counting:\n",
    "            column_counting[column] += 1\n",
    "        else:\n",
    "            column_counting[column] = 1\n",
    "    \n",
    "    table_percentages = {}\n",
    "    for key in column_counting:\n",
    "        percentage = (column_counting[key] / total) * 100\n",
    "        table_percentages[key] = percentage\n",
    "    \n",
    "    return table_percentages"
   ]
  },
  {
   "cell_type": "code",
   "execution_count": 10,
   "id": "320bda2f",
   "metadata": {},
   "outputs": [],
   "source": [
    "def display_table(dataset, index):\n",
    "    table = freq_table(dataset, index)\n",
    "    table_display = []\n",
    "    for key in table:\n",
    "        key_val_as_tuple = (table[key], key)\n",
    "        table_display.append(key_val_as_tuple)\n",
    "        \n",
    "    table_sorted = sorted(table_display, reverse = True)\n",
    "    for entry in table_sorted:\n",
    "        print(entry[1], ':', entry[0])"
   ]
  },
  {
   "cell_type": "markdown",
   "id": "bbc550db",
   "metadata": {},
   "source": [
    "# Most popular ios app by gender"
   ]
  },
  {
   "cell_type": "code",
   "execution_count": 11,
   "id": "0e9da3c9",
   "metadata": {},
   "outputs": [
    {
     "name": "stdout",
     "output_type": "stream",
     "text": [
      "Photo & Video : 28,442\n",
      "Games : 22,789\n",
      "Music : 57,327\n",
      "Social Networking : 71,548\n",
      "Reference : 74,942\n",
      "Health & Fitness : 23,298\n",
      "Weather : 52,280\n",
      "Utilities : 18,684\n",
      "Travel : 28,244\n",
      "Shopping : 26,920\n",
      "News : 21,248\n",
      "Navigation : 86,090\n",
      "Lifestyle : 16,486\n",
      "Entertainment : 14,030\n",
      "Food & Drink : 33,334\n",
      "Sports : 23,009\n",
      "Book : 39,758\n",
      "Finance : 31,468\n",
      "Education : 7,004\n",
      "Productivity : 21,028\n",
      "Business : 7,491\n",
      "Catalogs : 4,004\n",
      "Medical : 612\n"
     ]
    }
   ],
   "source": [
    "genres_ios = freq_table(ios_final, -5)\n",
    "genres_ios_list=[]\n",
    "\n",
    "for genre in genres_ios:\n",
    "    total = 0\n",
    "    len_genre = 0\n",
    "    for app in ios_final:\n",
    "        genre_app = app[-5]\n",
    "        if genre_app == genre:            \n",
    "            n_ratings = float(app[5])            \n",
    "            total += n_ratings\n",
    "            len_genre += 1\n",
    "            genres_ios_list.append(genre)\n",
    "    avg_n_ratings = total / len_genre\n",
    "    print(genre, ':', '{:,}'.format(round(avg_n_ratings)))"
   ]
  },
  {
   "cell_type": "markdown",
   "id": "abe1a2f3",
   "metadata": {},
   "source": [
    "# Most popular android app by category"
   ]
  },
  {
   "cell_type": "code",
   "execution_count": 12,
   "id": "d6da9655",
   "metadata": {},
   "outputs": [
    {
     "name": "stdout",
     "output_type": "stream",
     "text": [
      "ART_AND_DESIGN : 1,986,335\n",
      "AUTO_AND_VEHICLES : 647,318\n",
      "BEAUTY : 513,152\n",
      "BOOKS_AND_REFERENCE : 8,767,812\n",
      "BUSINESS : 1,712,290\n",
      "COMICS : 817,657\n",
      "COMMUNICATION : 38,456,119\n",
      "DATING : 854,029\n",
      "EDUCATION : 1,820,673\n",
      "ENTERTAINMENT : 11,640,706\n",
      "EVENTS : 253,542\n",
      "FINANCE : 1,387,692\n",
      "FOOD_AND_DRINK : 1,924,898\n",
      "HEALTH_AND_FITNESS : 4,188,822\n",
      "HOUSE_AND_HOME : 1,331,541\n",
      "LIBRARIES_AND_DEMO : 638,504\n",
      "LIFESTYLE : 1,437,816\n",
      "GAME : 15,560,966\n",
      "FAMILY : 3,694,276\n",
      "MEDICAL : 120,616\n",
      "SOCIAL : 23,253,652\n",
      "SHOPPING : 7,036,877\n",
      "PHOTOGRAPHY : 17,805,628\n",
      "SPORTS : 3,638,640\n",
      "TRAVEL_AND_LOCAL : 13,984,078\n",
      "TOOLS : 10,682,301\n",
      "PERSONALIZATION : 5,201,483\n",
      "PRODUCTIVITY : 16,787,331\n",
      "PARENTING : 542,604\n",
      "WEATHER : 5,074,486\n",
      "VIDEO_PLAYERS : 24,727,872\n",
      "NEWS_AND_MAGAZINES : 9,549,178\n",
      "MAPS_AND_NAVIGATION : 4,056,942\n"
     ]
    }
   ],
   "source": [
    "categories_android = freq_table(android_final, 1)\n",
    "\n",
    "for category in categories_android:\n",
    "    total = 0\n",
    "    len_category = 0\n",
    "    for app in android_final:\n",
    "        category_app = app[1]\n",
    "        if category_app == category:            \n",
    "            n_installs = app[5]\n",
    "            n_installs = n_installs.replace(',', '')\n",
    "            n_installs = n_installs.replace('+', '')\n",
    "            total += float(n_installs)\n",
    "            len_category += 1\n",
    "    avg_n_installs = total / len_category\n",
    "    print(category, ':', '{:,}'.format(round(avg_n_installs)))"
   ]
  },
  {
   "cell_type": "code",
   "execution_count": null,
   "id": "c0d1a8c0",
   "metadata": {},
   "outputs": [],
   "source": []
  }
 ],
 "metadata": {
  "kernelspec": {
   "display_name": "Python 3 (ipykernel)",
   "language": "python",
   "name": "python3"
  },
  "language_info": {
   "codemirror_mode": {
    "name": "ipython",
    "version": 3
   },
   "file_extension": ".py",
   "mimetype": "text/x-python",
   "name": "python",
   "nbconvert_exporter": "python",
   "pygments_lexer": "ipython3",
   "version": "3.9.7"
  }
 },
 "nbformat": 4,
 "nbformat_minor": 5
}
