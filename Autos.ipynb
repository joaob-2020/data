{
 "cells": [
  {
   "cell_type": "markdown",
   "id": "8528823c",
   "metadata": {},
   "source": [
    "# Clean data and analyze this used car listing. "
   ]
  },
  {
   "cell_type": "markdown",
   "id": "7871d5c7",
   "metadata": {},
   "source": [
    "#### This dataset was originally created by a user in Kaggle, but it is not available anymore. The original dataset can be found in: https://data.world/data-society/used-cars-data, but the dataset was modified so this analysis would make sense. The modified dataset can be found in this GitHub repository named \"autos\". "
   ]
  },
  {
   "cell_type": "markdown",
   "id": "b4cd698e",
   "metadata": {},
   "source": [
    "#### The data dictionary provided with data is as follows:\n",
    "\n",
    "dateCrawled - When this ad was first crawled. All field-values are taken from this date.\n",
    "\n",
    "name - Name of the car.\n",
    "\n",
    "seller - Whether the seller is private or a dealer.\n",
    "\n",
    "offerType - The type of listing\n",
    "\n",
    "price - The price on the ad to sell the car.\n",
    "\n",
    "abtest - Whether the listing is included in an A/B test.\n",
    "\n",
    "vehicleType - The vehicle Type.\n",
    "\n",
    "yearOfRegistration - The year in which the car was first registered.\n",
    "\n",
    "gearbox - The transmission type.\n",
    "\n",
    "powerPS - The power of the car in PS.\n",
    "\n",
    "model - The car model name.\n",
    "\n",
    "kilometer - How many kilometers the car has driven.\n",
    "\n",
    "monthOfRegistration - The month in which the car was first registered.\n",
    "\n",
    "fuelType - What type of fuel the car uses.\n",
    "\n",
    "brand - The brand of the car.\n",
    "\n",
    "notRepairedDamage - If the car has a damage which is not yet repaired.\n",
    "\n",
    "dateCreated - The date on which the eBay listing was created.\n",
    "\n",
    "nrOfPictures - The number of pictures in the ad.\n",
    "\n",
    "postalCode - The postal code for the location of the vehicle.\n",
    "\n",
    "lastSeenOnline - When the crawler saw this ad last online."
   ]
  },
  {
   "cell_type": "code",
   "execution_count": 1,
   "id": "5bf46c88",
   "metadata": {},
   "outputs": [],
   "source": [
    "import pandas as pd\n",
    "import numpy as np\n",
    "import warnings\n",
    "warnings.filterwarnings(\"ignore\")"
   ]
  },
  {
   "cell_type": "code",
   "execution_count": 2,
   "id": "3160c5b7",
   "metadata": {},
   "outputs": [],
   "source": [
    "autos = pd.read_csv (\"C://Users//johng//Desktop//data//autos.csv\", encoding=\"Windows-1252\")"
   ]
  },
  {
   "cell_type": "code",
   "execution_count": 3,
   "id": "ded176b6",
   "metadata": {},
   "outputs": [
    {
     "name": "stdout",
     "output_type": "stream",
     "text": [
      "<class 'pandas.core.frame.DataFrame'>\n",
      "RangeIndex: 50000 entries, 0 to 49999\n",
      "Data columns (total 20 columns):\n",
      " #   Column               Non-Null Count  Dtype \n",
      "---  ------               --------------  ----- \n",
      " 0   dateCrawled          50000 non-null  object\n",
      " 1   name                 50000 non-null  object\n",
      " 2   seller               50000 non-null  object\n",
      " 3   offerType            50000 non-null  object\n",
      " 4   price                50000 non-null  object\n",
      " 5   abtest               50000 non-null  object\n",
      " 6   vehicleType          44905 non-null  object\n",
      " 7   yearOfRegistration   50000 non-null  int64 \n",
      " 8   gearbox              47320 non-null  object\n",
      " 9   powerPS              50000 non-null  int64 \n",
      " 10  model                47242 non-null  object\n",
      " 11  odometer             50000 non-null  object\n",
      " 12  monthOfRegistration  50000 non-null  int64 \n",
      " 13  fuelType             45518 non-null  object\n",
      " 14  brand                50000 non-null  object\n",
      " 15  notRepairedDamage    40171 non-null  object\n",
      " 16  dateCreated          50000 non-null  object\n",
      " 17  nrOfPictures         50000 non-null  int64 \n",
      " 18  postalCode           50000 non-null  int64 \n",
      " 19  lastSeen             50000 non-null  object\n",
      "dtypes: int64(5), object(15)\n",
      "memory usage: 7.6+ MB\n"
     ]
    },
    {
     "data": {
      "text/html": [
       "<div>\n",
       "<style scoped>\n",
       "    .dataframe tbody tr th:only-of-type {\n",
       "        vertical-align: middle;\n",
       "    }\n",
       "\n",
       "    .dataframe tbody tr th {\n",
       "        vertical-align: top;\n",
       "    }\n",
       "\n",
       "    .dataframe thead th {\n",
       "        text-align: right;\n",
       "    }\n",
       "</style>\n",
       "<table border=\"1\" class=\"dataframe\">\n",
       "  <thead>\n",
       "    <tr style=\"text-align: right;\">\n",
       "      <th></th>\n",
       "      <th>dateCrawled</th>\n",
       "      <th>name</th>\n",
       "      <th>seller</th>\n",
       "      <th>offerType</th>\n",
       "      <th>price</th>\n",
       "      <th>abtest</th>\n",
       "      <th>vehicleType</th>\n",
       "      <th>yearOfRegistration</th>\n",
       "      <th>gearbox</th>\n",
       "      <th>powerPS</th>\n",
       "      <th>model</th>\n",
       "      <th>odometer</th>\n",
       "      <th>monthOfRegistration</th>\n",
       "      <th>fuelType</th>\n",
       "      <th>brand</th>\n",
       "      <th>notRepairedDamage</th>\n",
       "      <th>dateCreated</th>\n",
       "      <th>nrOfPictures</th>\n",
       "      <th>postalCode</th>\n",
       "      <th>lastSeen</th>\n",
       "    </tr>\n",
       "  </thead>\n",
       "  <tbody>\n",
       "    <tr>\n",
       "      <th>0</th>\n",
       "      <td>2016-03-26 17:47:46</td>\n",
       "      <td>Peugeot_807_160_NAVTECH_ON_BOARD</td>\n",
       "      <td>privat</td>\n",
       "      <td>Angebot</td>\n",
       "      <td>$5,000</td>\n",
       "      <td>control</td>\n",
       "      <td>bus</td>\n",
       "      <td>2004</td>\n",
       "      <td>manuell</td>\n",
       "      <td>158</td>\n",
       "      <td>andere</td>\n",
       "      <td>150,000km</td>\n",
       "      <td>3</td>\n",
       "      <td>lpg</td>\n",
       "      <td>peugeot</td>\n",
       "      <td>nein</td>\n",
       "      <td>2016-03-26 00:00:00</td>\n",
       "      <td>0</td>\n",
       "      <td>79588</td>\n",
       "      <td>2016-04-06 06:45:54</td>\n",
       "    </tr>\n",
       "    <tr>\n",
       "      <th>1</th>\n",
       "      <td>2016-04-04 13:38:56</td>\n",
       "      <td>BMW_740i_4_4_Liter_HAMANN_UMBAU_Mega_Optik</td>\n",
       "      <td>privat</td>\n",
       "      <td>Angebot</td>\n",
       "      <td>$8,500</td>\n",
       "      <td>control</td>\n",
       "      <td>limousine</td>\n",
       "      <td>1997</td>\n",
       "      <td>automatik</td>\n",
       "      <td>286</td>\n",
       "      <td>7er</td>\n",
       "      <td>150,000km</td>\n",
       "      <td>6</td>\n",
       "      <td>benzin</td>\n",
       "      <td>bmw</td>\n",
       "      <td>nein</td>\n",
       "      <td>2016-04-04 00:00:00</td>\n",
       "      <td>0</td>\n",
       "      <td>71034</td>\n",
       "      <td>2016-04-06 14:45:08</td>\n",
       "    </tr>\n",
       "    <tr>\n",
       "      <th>2</th>\n",
       "      <td>2016-03-26 18:57:24</td>\n",
       "      <td>Volkswagen_Golf_1.6_United</td>\n",
       "      <td>privat</td>\n",
       "      <td>Angebot</td>\n",
       "      <td>$8,990</td>\n",
       "      <td>test</td>\n",
       "      <td>limousine</td>\n",
       "      <td>2009</td>\n",
       "      <td>manuell</td>\n",
       "      <td>102</td>\n",
       "      <td>golf</td>\n",
       "      <td>70,000km</td>\n",
       "      <td>7</td>\n",
       "      <td>benzin</td>\n",
       "      <td>volkswagen</td>\n",
       "      <td>nein</td>\n",
       "      <td>2016-03-26 00:00:00</td>\n",
       "      <td>0</td>\n",
       "      <td>35394</td>\n",
       "      <td>2016-04-06 20:15:37</td>\n",
       "    </tr>\n",
       "    <tr>\n",
       "      <th>3</th>\n",
       "      <td>2016-03-12 16:58:10</td>\n",
       "      <td>Smart_smart_fortwo_coupe_softouch/F1/Klima/Pan...</td>\n",
       "      <td>privat</td>\n",
       "      <td>Angebot</td>\n",
       "      <td>$4,350</td>\n",
       "      <td>control</td>\n",
       "      <td>kleinwagen</td>\n",
       "      <td>2007</td>\n",
       "      <td>automatik</td>\n",
       "      <td>71</td>\n",
       "      <td>fortwo</td>\n",
       "      <td>70,000km</td>\n",
       "      <td>6</td>\n",
       "      <td>benzin</td>\n",
       "      <td>smart</td>\n",
       "      <td>nein</td>\n",
       "      <td>2016-03-12 00:00:00</td>\n",
       "      <td>0</td>\n",
       "      <td>33729</td>\n",
       "      <td>2016-03-15 03:16:28</td>\n",
       "    </tr>\n",
       "    <tr>\n",
       "      <th>4</th>\n",
       "      <td>2016-04-01 14:38:50</td>\n",
       "      <td>Ford_Focus_1_6_Benzin_TÜV_neu_ist_sehr_gepfleg...</td>\n",
       "      <td>privat</td>\n",
       "      <td>Angebot</td>\n",
       "      <td>$1,350</td>\n",
       "      <td>test</td>\n",
       "      <td>kombi</td>\n",
       "      <td>2003</td>\n",
       "      <td>manuell</td>\n",
       "      <td>0</td>\n",
       "      <td>focus</td>\n",
       "      <td>150,000km</td>\n",
       "      <td>7</td>\n",
       "      <td>benzin</td>\n",
       "      <td>ford</td>\n",
       "      <td>nein</td>\n",
       "      <td>2016-04-01 00:00:00</td>\n",
       "      <td>0</td>\n",
       "      <td>39218</td>\n",
       "      <td>2016-04-01 14:38:50</td>\n",
       "    </tr>\n",
       "  </tbody>\n",
       "</table>\n",
       "</div>"
      ],
      "text/plain": [
       "           dateCrawled                                               name  \\\n",
       "0  2016-03-26 17:47:46                   Peugeot_807_160_NAVTECH_ON_BOARD   \n",
       "1  2016-04-04 13:38:56         BMW_740i_4_4_Liter_HAMANN_UMBAU_Mega_Optik   \n",
       "2  2016-03-26 18:57:24                         Volkswagen_Golf_1.6_United   \n",
       "3  2016-03-12 16:58:10  Smart_smart_fortwo_coupe_softouch/F1/Klima/Pan...   \n",
       "4  2016-04-01 14:38:50  Ford_Focus_1_6_Benzin_TÜV_neu_ist_sehr_gepfleg...   \n",
       "\n",
       "   seller offerType   price   abtest vehicleType  yearOfRegistration  \\\n",
       "0  privat   Angebot  $5,000  control         bus                2004   \n",
       "1  privat   Angebot  $8,500  control   limousine                1997   \n",
       "2  privat   Angebot  $8,990     test   limousine                2009   \n",
       "3  privat   Angebot  $4,350  control  kleinwagen                2007   \n",
       "4  privat   Angebot  $1,350     test       kombi                2003   \n",
       "\n",
       "     gearbox  powerPS   model   odometer  monthOfRegistration fuelType  \\\n",
       "0    manuell      158  andere  150,000km                    3      lpg   \n",
       "1  automatik      286     7er  150,000km                    6   benzin   \n",
       "2    manuell      102    golf   70,000km                    7   benzin   \n",
       "3  automatik       71  fortwo   70,000km                    6   benzin   \n",
       "4    manuell        0   focus  150,000km                    7   benzin   \n",
       "\n",
       "        brand notRepairedDamage          dateCreated  nrOfPictures  \\\n",
       "0     peugeot              nein  2016-03-26 00:00:00             0   \n",
       "1         bmw              nein  2016-04-04 00:00:00             0   \n",
       "2  volkswagen              nein  2016-03-26 00:00:00             0   \n",
       "3       smart              nein  2016-03-12 00:00:00             0   \n",
       "4        ford              nein  2016-04-01 00:00:00             0   \n",
       "\n",
       "   postalCode             lastSeen  \n",
       "0       79588  2016-04-06 06:45:54  \n",
       "1       71034  2016-04-06 14:45:08  \n",
       "2       35394  2016-04-06 20:15:37  \n",
       "3       33729  2016-03-15 03:16:28  \n",
       "4       39218  2016-04-01 14:38:50  "
      ]
     },
     "execution_count": 3,
     "metadata": {},
     "output_type": "execute_result"
    }
   ],
   "source": [
    "# info and 5 columns\n",
    "autos.info()\n",
    "autos.head()"
   ]
  },
  {
   "cell_type": "markdown",
   "id": "bb7fb27d",
   "metadata": {},
   "source": [
    "#### Converting columns names from camelcase to snakecase and reword some to make more sense."
   ]
  },
  {
   "cell_type": "code",
   "execution_count": 4,
   "id": "6056091d",
   "metadata": {},
   "outputs": [
    {
     "data": {
      "text/plain": [
       "Index(['date_crawled', 'name', 'seller', 'offer_type', 'price', 'abtest',\n",
       "       'vehicle_type', 'registration_year', 'gearbox', 'power_ps', 'model',\n",
       "       'odometer', 'registration_month', 'fuel_type', 'brand',\n",
       "       'unrepaired_damage', 'ad_created', 'nr_of_pictures', 'postal_code',\n",
       "       'last_seen'],\n",
       "      dtype='object')"
      ]
     },
     "execution_count": 4,
     "metadata": {},
     "output_type": "execute_result"
    }
   ],
   "source": [
    "mapping_dict = {\n",
    "\"dateCrawled\": \"date_crawled\",\n",
    "\"offerType\": \"offer_type\",\n",
    "\"vehicleType\": \"vehicle_type\",\n",
    "\"yearOfRegistration\": \"registration_year\",\n",
    "\"powerPS\": \"power_ps\",\n",
    "\"monthOfRegistration\": \"registration_month\",\n",
    "\"fuelType\": \"fuel_type\",\n",
    "\"notRepairedDamage\": \"unrepaired_damage\",\n",
    "\"dateCreated\": \"ad_created\",\n",
    "\"nrOfPictures\": \"nr_of_pictures\",\n",
    "\"postalCode\": \"postal_code\",\n",
    "\"lastSeen\": \"last_seen\"\n",
    "}\n",
    "\n",
    "autos = autos.rename(columns=mapping_dict )\n",
    "autos.columns"
   ]
  },
  {
   "cell_type": "code",
   "execution_count": 5,
   "id": "49e67273",
   "metadata": {},
   "outputs": [
    {
     "data": {
      "text/html": [
       "<div>\n",
       "<style scoped>\n",
       "    .dataframe tbody tr th:only-of-type {\n",
       "        vertical-align: middle;\n",
       "    }\n",
       "\n",
       "    .dataframe tbody tr th {\n",
       "        vertical-align: top;\n",
       "    }\n",
       "\n",
       "    .dataframe thead th {\n",
       "        text-align: right;\n",
       "    }\n",
       "</style>\n",
       "<table border=\"1\" class=\"dataframe\">\n",
       "  <thead>\n",
       "    <tr style=\"text-align: right;\">\n",
       "      <th></th>\n",
       "      <th>date_crawled</th>\n",
       "      <th>name</th>\n",
       "      <th>seller</th>\n",
       "      <th>offer_type</th>\n",
       "      <th>price</th>\n",
       "      <th>abtest</th>\n",
       "      <th>vehicle_type</th>\n",
       "      <th>registration_year</th>\n",
       "      <th>gearbox</th>\n",
       "      <th>power_ps</th>\n",
       "      <th>model</th>\n",
       "      <th>odometer</th>\n",
       "      <th>registration_month</th>\n",
       "      <th>fuel_type</th>\n",
       "      <th>brand</th>\n",
       "      <th>unrepaired_damage</th>\n",
       "      <th>ad_created</th>\n",
       "      <th>nr_of_pictures</th>\n",
       "      <th>postal_code</th>\n",
       "      <th>last_seen</th>\n",
       "    </tr>\n",
       "  </thead>\n",
       "  <tbody>\n",
       "    <tr>\n",
       "      <th>0</th>\n",
       "      <td>2016-03-26 17:47:46</td>\n",
       "      <td>Peugeot_807_160_NAVTECH_ON_BOARD</td>\n",
       "      <td>privat</td>\n",
       "      <td>Angebot</td>\n",
       "      <td>$5,000</td>\n",
       "      <td>control</td>\n",
       "      <td>bus</td>\n",
       "      <td>2004</td>\n",
       "      <td>manuell</td>\n",
       "      <td>158</td>\n",
       "      <td>andere</td>\n",
       "      <td>150,000km</td>\n",
       "      <td>3</td>\n",
       "      <td>lpg</td>\n",
       "      <td>peugeot</td>\n",
       "      <td>nein</td>\n",
       "      <td>2016-03-26 00:00:00</td>\n",
       "      <td>0</td>\n",
       "      <td>79588</td>\n",
       "      <td>2016-04-06 06:45:54</td>\n",
       "    </tr>\n",
       "    <tr>\n",
       "      <th>1</th>\n",
       "      <td>2016-04-04 13:38:56</td>\n",
       "      <td>BMW_740i_4_4_Liter_HAMANN_UMBAU_Mega_Optik</td>\n",
       "      <td>privat</td>\n",
       "      <td>Angebot</td>\n",
       "      <td>$8,500</td>\n",
       "      <td>control</td>\n",
       "      <td>limousine</td>\n",
       "      <td>1997</td>\n",
       "      <td>automatik</td>\n",
       "      <td>286</td>\n",
       "      <td>7er</td>\n",
       "      <td>150,000km</td>\n",
       "      <td>6</td>\n",
       "      <td>benzin</td>\n",
       "      <td>bmw</td>\n",
       "      <td>nein</td>\n",
       "      <td>2016-04-04 00:00:00</td>\n",
       "      <td>0</td>\n",
       "      <td>71034</td>\n",
       "      <td>2016-04-06 14:45:08</td>\n",
       "    </tr>\n",
       "    <tr>\n",
       "      <th>2</th>\n",
       "      <td>2016-03-26 18:57:24</td>\n",
       "      <td>Volkswagen_Golf_1.6_United</td>\n",
       "      <td>privat</td>\n",
       "      <td>Angebot</td>\n",
       "      <td>$8,990</td>\n",
       "      <td>test</td>\n",
       "      <td>limousine</td>\n",
       "      <td>2009</td>\n",
       "      <td>manuell</td>\n",
       "      <td>102</td>\n",
       "      <td>golf</td>\n",
       "      <td>70,000km</td>\n",
       "      <td>7</td>\n",
       "      <td>benzin</td>\n",
       "      <td>volkswagen</td>\n",
       "      <td>nein</td>\n",
       "      <td>2016-03-26 00:00:00</td>\n",
       "      <td>0</td>\n",
       "      <td>35394</td>\n",
       "      <td>2016-04-06 20:15:37</td>\n",
       "    </tr>\n",
       "    <tr>\n",
       "      <th>3</th>\n",
       "      <td>2016-03-12 16:58:10</td>\n",
       "      <td>Smart_smart_fortwo_coupe_softouch/F1/Klima/Pan...</td>\n",
       "      <td>privat</td>\n",
       "      <td>Angebot</td>\n",
       "      <td>$4,350</td>\n",
       "      <td>control</td>\n",
       "      <td>kleinwagen</td>\n",
       "      <td>2007</td>\n",
       "      <td>automatik</td>\n",
       "      <td>71</td>\n",
       "      <td>fortwo</td>\n",
       "      <td>70,000km</td>\n",
       "      <td>6</td>\n",
       "      <td>benzin</td>\n",
       "      <td>smart</td>\n",
       "      <td>nein</td>\n",
       "      <td>2016-03-12 00:00:00</td>\n",
       "      <td>0</td>\n",
       "      <td>33729</td>\n",
       "      <td>2016-03-15 03:16:28</td>\n",
       "    </tr>\n",
       "    <tr>\n",
       "      <th>4</th>\n",
       "      <td>2016-04-01 14:38:50</td>\n",
       "      <td>Ford_Focus_1_6_Benzin_TÜV_neu_ist_sehr_gepfleg...</td>\n",
       "      <td>privat</td>\n",
       "      <td>Angebot</td>\n",
       "      <td>$1,350</td>\n",
       "      <td>test</td>\n",
       "      <td>kombi</td>\n",
       "      <td>2003</td>\n",
       "      <td>manuell</td>\n",
       "      <td>0</td>\n",
       "      <td>focus</td>\n",
       "      <td>150,000km</td>\n",
       "      <td>7</td>\n",
       "      <td>benzin</td>\n",
       "      <td>ford</td>\n",
       "      <td>nein</td>\n",
       "      <td>2016-04-01 00:00:00</td>\n",
       "      <td>0</td>\n",
       "      <td>39218</td>\n",
       "      <td>2016-04-01 14:38:50</td>\n",
       "    </tr>\n",
       "  </tbody>\n",
       "</table>\n",
       "</div>"
      ],
      "text/plain": [
       "          date_crawled                                               name  \\\n",
       "0  2016-03-26 17:47:46                   Peugeot_807_160_NAVTECH_ON_BOARD   \n",
       "1  2016-04-04 13:38:56         BMW_740i_4_4_Liter_HAMANN_UMBAU_Mega_Optik   \n",
       "2  2016-03-26 18:57:24                         Volkswagen_Golf_1.6_United   \n",
       "3  2016-03-12 16:58:10  Smart_smart_fortwo_coupe_softouch/F1/Klima/Pan...   \n",
       "4  2016-04-01 14:38:50  Ford_Focus_1_6_Benzin_TÜV_neu_ist_sehr_gepfleg...   \n",
       "\n",
       "   seller offer_type   price   abtest vehicle_type  registration_year  \\\n",
       "0  privat    Angebot  $5,000  control          bus               2004   \n",
       "1  privat    Angebot  $8,500  control    limousine               1997   \n",
       "2  privat    Angebot  $8,990     test    limousine               2009   \n",
       "3  privat    Angebot  $4,350  control   kleinwagen               2007   \n",
       "4  privat    Angebot  $1,350     test        kombi               2003   \n",
       "\n",
       "     gearbox  power_ps   model   odometer  registration_month fuel_type  \\\n",
       "0    manuell       158  andere  150,000km                   3       lpg   \n",
       "1  automatik       286     7er  150,000km                   6    benzin   \n",
       "2    manuell       102    golf   70,000km                   7    benzin   \n",
       "3  automatik        71  fortwo   70,000km                   6    benzin   \n",
       "4    manuell         0   focus  150,000km                   7    benzin   \n",
       "\n",
       "        brand unrepaired_damage           ad_created  nr_of_pictures  \\\n",
       "0     peugeot              nein  2016-03-26 00:00:00               0   \n",
       "1         bmw              nein  2016-04-04 00:00:00               0   \n",
       "2  volkswagen              nein  2016-03-26 00:00:00               0   \n",
       "3       smart              nein  2016-03-12 00:00:00               0   \n",
       "4        ford              nein  2016-04-01 00:00:00               0   \n",
       "\n",
       "   postal_code            last_seen  \n",
       "0        79588  2016-04-06 06:45:54  \n",
       "1        71034  2016-04-06 14:45:08  \n",
       "2        35394  2016-04-06 20:15:37  \n",
       "3        33729  2016-03-15 03:16:28  \n",
       "4        39218  2016-04-01 14:38:50  "
      ]
     },
     "execution_count": 5,
     "metadata": {},
     "output_type": "execute_result"
    }
   ],
   "source": [
    "autos.describe(include='all')\n",
    "autos.head()"
   ]
  },
  {
   "cell_type": "markdown",
   "id": "016e60af",
   "metadata": {},
   "source": [
    "#### Seller and offertype have the same values. These columns will be droped.\n",
    "#### Price column and odometer are not numeric. \"Odemeter\" is going to be called \"odometer_km\". "
   ]
  },
  {
   "cell_type": "code",
   "execution_count": 6,
   "id": "f14545e6",
   "metadata": {},
   "outputs": [],
   "source": [
    "# just run this cell once.\n",
    "autos.drop([\"seller\",\"offer_type\"],axis=1,inplace=True)"
   ]
  },
  {
   "cell_type": "code",
   "execution_count": 7,
   "id": "55914505",
   "metadata": {},
   "outputs": [],
   "source": [
    "#price\n",
    "autos[\"price\"] = (autos[\"price\"]\n",
    "                  .str.replace(\"$\",\"\")\n",
    "                  .str.replace(\",\",\"\")\n",
    "                  .astype(float)\n",
    "                )\n",
    "\n",
    "\n",
    "#odometer\n",
    "autos[\"odometer\"] = (autos[\"odometer\"].\n",
    "                     str.replace(\"km\",\"\").\n",
    "                     str.replace(\",\",\"\").\n",
    "                     astype(int)\n",
    "                    )\n",
    "\n",
    "autos.rename({'odometer': 'odometer_km'},axis=1,inplace=True)"
   ]
  },
  {
   "cell_type": "code",
   "execution_count": 8,
   "id": "05755b15",
   "metadata": {},
   "outputs": [
    {
     "data": {
      "text/html": [
       "<div>\n",
       "<style scoped>\n",
       "    .dataframe tbody tr th:only-of-type {\n",
       "        vertical-align: middle;\n",
       "    }\n",
       "\n",
       "    .dataframe tbody tr th {\n",
       "        vertical-align: top;\n",
       "    }\n",
       "\n",
       "    .dataframe thead th {\n",
       "        text-align: right;\n",
       "    }\n",
       "</style>\n",
       "<table border=\"1\" class=\"dataframe\">\n",
       "  <thead>\n",
       "    <tr style=\"text-align: right;\">\n",
       "      <th></th>\n",
       "      <th>date_crawled</th>\n",
       "      <th>name</th>\n",
       "      <th>price</th>\n",
       "      <th>abtest</th>\n",
       "      <th>vehicle_type</th>\n",
       "      <th>registration_year</th>\n",
       "      <th>gearbox</th>\n",
       "      <th>power_ps</th>\n",
       "      <th>model</th>\n",
       "      <th>odometer_km</th>\n",
       "      <th>registration_month</th>\n",
       "      <th>fuel_type</th>\n",
       "      <th>brand</th>\n",
       "      <th>unrepaired_damage</th>\n",
       "      <th>ad_created</th>\n",
       "      <th>nr_of_pictures</th>\n",
       "      <th>postal_code</th>\n",
       "      <th>last_seen</th>\n",
       "    </tr>\n",
       "  </thead>\n",
       "  <tbody>\n",
       "    <tr>\n",
       "      <th>0</th>\n",
       "      <td>2016-03-26 17:47:46</td>\n",
       "      <td>Peugeot_807_160_NAVTECH_ON_BOARD</td>\n",
       "      <td>5000.0</td>\n",
       "      <td>control</td>\n",
       "      <td>bus</td>\n",
       "      <td>2004</td>\n",
       "      <td>manuell</td>\n",
       "      <td>158</td>\n",
       "      <td>andere</td>\n",
       "      <td>150000</td>\n",
       "      <td>3</td>\n",
       "      <td>lpg</td>\n",
       "      <td>peugeot</td>\n",
       "      <td>nein</td>\n",
       "      <td>2016-03-26 00:00:00</td>\n",
       "      <td>0</td>\n",
       "      <td>79588</td>\n",
       "      <td>2016-04-06 06:45:54</td>\n",
       "    </tr>\n",
       "    <tr>\n",
       "      <th>1</th>\n",
       "      <td>2016-04-04 13:38:56</td>\n",
       "      <td>BMW_740i_4_4_Liter_HAMANN_UMBAU_Mega_Optik</td>\n",
       "      <td>8500.0</td>\n",
       "      <td>control</td>\n",
       "      <td>limousine</td>\n",
       "      <td>1997</td>\n",
       "      <td>automatik</td>\n",
       "      <td>286</td>\n",
       "      <td>7er</td>\n",
       "      <td>150000</td>\n",
       "      <td>6</td>\n",
       "      <td>benzin</td>\n",
       "      <td>bmw</td>\n",
       "      <td>nein</td>\n",
       "      <td>2016-04-04 00:00:00</td>\n",
       "      <td>0</td>\n",
       "      <td>71034</td>\n",
       "      <td>2016-04-06 14:45:08</td>\n",
       "    </tr>\n",
       "    <tr>\n",
       "      <th>2</th>\n",
       "      <td>2016-03-26 18:57:24</td>\n",
       "      <td>Volkswagen_Golf_1.6_United</td>\n",
       "      <td>8990.0</td>\n",
       "      <td>test</td>\n",
       "      <td>limousine</td>\n",
       "      <td>2009</td>\n",
       "      <td>manuell</td>\n",
       "      <td>102</td>\n",
       "      <td>golf</td>\n",
       "      <td>70000</td>\n",
       "      <td>7</td>\n",
       "      <td>benzin</td>\n",
       "      <td>volkswagen</td>\n",
       "      <td>nein</td>\n",
       "      <td>2016-03-26 00:00:00</td>\n",
       "      <td>0</td>\n",
       "      <td>35394</td>\n",
       "      <td>2016-04-06 20:15:37</td>\n",
       "    </tr>\n",
       "    <tr>\n",
       "      <th>3</th>\n",
       "      <td>2016-03-12 16:58:10</td>\n",
       "      <td>Smart_smart_fortwo_coupe_softouch/F1/Klima/Pan...</td>\n",
       "      <td>4350.0</td>\n",
       "      <td>control</td>\n",
       "      <td>kleinwagen</td>\n",
       "      <td>2007</td>\n",
       "      <td>automatik</td>\n",
       "      <td>71</td>\n",
       "      <td>fortwo</td>\n",
       "      <td>70000</td>\n",
       "      <td>6</td>\n",
       "      <td>benzin</td>\n",
       "      <td>smart</td>\n",
       "      <td>nein</td>\n",
       "      <td>2016-03-12 00:00:00</td>\n",
       "      <td>0</td>\n",
       "      <td>33729</td>\n",
       "      <td>2016-03-15 03:16:28</td>\n",
       "    </tr>\n",
       "    <tr>\n",
       "      <th>4</th>\n",
       "      <td>2016-04-01 14:38:50</td>\n",
       "      <td>Ford_Focus_1_6_Benzin_TÜV_neu_ist_sehr_gepfleg...</td>\n",
       "      <td>1350.0</td>\n",
       "      <td>test</td>\n",
       "      <td>kombi</td>\n",
       "      <td>2003</td>\n",
       "      <td>manuell</td>\n",
       "      <td>0</td>\n",
       "      <td>focus</td>\n",
       "      <td>150000</td>\n",
       "      <td>7</td>\n",
       "      <td>benzin</td>\n",
       "      <td>ford</td>\n",
       "      <td>nein</td>\n",
       "      <td>2016-04-01 00:00:00</td>\n",
       "      <td>0</td>\n",
       "      <td>39218</td>\n",
       "      <td>2016-04-01 14:38:50</td>\n",
       "    </tr>\n",
       "  </tbody>\n",
       "</table>\n",
       "</div>"
      ],
      "text/plain": [
       "          date_crawled                                               name  \\\n",
       "0  2016-03-26 17:47:46                   Peugeot_807_160_NAVTECH_ON_BOARD   \n",
       "1  2016-04-04 13:38:56         BMW_740i_4_4_Liter_HAMANN_UMBAU_Mega_Optik   \n",
       "2  2016-03-26 18:57:24                         Volkswagen_Golf_1.6_United   \n",
       "3  2016-03-12 16:58:10  Smart_smart_fortwo_coupe_softouch/F1/Klima/Pan...   \n",
       "4  2016-04-01 14:38:50  Ford_Focus_1_6_Benzin_TÜV_neu_ist_sehr_gepfleg...   \n",
       "\n",
       "    price   abtest vehicle_type  registration_year    gearbox  power_ps  \\\n",
       "0  5000.0  control          bus               2004    manuell       158   \n",
       "1  8500.0  control    limousine               1997  automatik       286   \n",
       "2  8990.0     test    limousine               2009    manuell       102   \n",
       "3  4350.0  control   kleinwagen               2007  automatik        71   \n",
       "4  1350.0     test        kombi               2003    manuell         0   \n",
       "\n",
       "    model  odometer_km  registration_month fuel_type       brand  \\\n",
       "0  andere       150000                   3       lpg     peugeot   \n",
       "1     7er       150000                   6    benzin         bmw   \n",
       "2    golf        70000                   7    benzin  volkswagen   \n",
       "3  fortwo        70000                   6    benzin       smart   \n",
       "4   focus       150000                   7    benzin        ford   \n",
       "\n",
       "  unrepaired_damage           ad_created  nr_of_pictures  postal_code  \\\n",
       "0              nein  2016-03-26 00:00:00               0        79588   \n",
       "1              nein  2016-04-04 00:00:00               0        71034   \n",
       "2              nein  2016-03-26 00:00:00               0        35394   \n",
       "3              nein  2016-03-12 00:00:00               0        33729   \n",
       "4              nein  2016-04-01 00:00:00               0        39218   \n",
       "\n",
       "             last_seen  \n",
       "0  2016-04-06 06:45:54  \n",
       "1  2016-04-06 14:45:08  \n",
       "2  2016-04-06 20:15:37  \n",
       "3  2016-03-15 03:16:28  \n",
       "4  2016-04-01 14:38:50  "
      ]
     },
     "execution_count": 8,
     "metadata": {},
     "output_type": "execute_result"
    }
   ],
   "source": [
    "autos.head()"
   ]
  },
  {
   "cell_type": "code",
   "execution_count": 9,
   "id": "5308e698",
   "metadata": {},
   "outputs": [
    {
     "data": {
      "text/plain": [
       "count    5.000000e+04\n",
       "mean     9.840044e+03\n",
       "std      4.811044e+05\n",
       "min      0.000000e+00\n",
       "25%      1.100000e+03\n",
       "50%      2.950000e+03\n",
       "75%      7.200000e+03\n",
       "max      1.000000e+08\n",
       "Name: price, dtype: float64"
      ]
     },
     "execution_count": 9,
     "metadata": {},
     "output_type": "execute_result"
    }
   ],
   "source": [
    "autos[\"price\"].describe()"
   ]
  },
  {
   "cell_type": "markdown",
   "id": "5457a20e",
   "metadata": {},
   "source": [
    "#### Used cars range between 650 and 200,000 dollars."
   ]
  },
  {
   "cell_type": "code",
   "execution_count": 10,
   "id": "9451d4db",
   "metadata": {},
   "outputs": [],
   "source": [
    "autos[\"price\"] = autos.loc[autos[\"price\"].between(650, 200000), \"price\"]"
   ]
  },
  {
   "cell_type": "code",
   "execution_count": 11,
   "id": "42d65c95",
   "metadata": {},
   "outputs": [
    {
     "data": {
      "text/plain": [
       "count     50000.000000\n",
       "mean     125732.700000\n",
       "std       40042.211706\n",
       "min        5000.000000\n",
       "25%      125000.000000\n",
       "50%      150000.000000\n",
       "75%      150000.000000\n",
       "max      150000.000000\n",
       "Name: odometer_km, dtype: float64"
      ]
     },
     "execution_count": 11,
     "metadata": {},
     "output_type": "execute_result"
    }
   ],
   "source": [
    "autos[\"odometer_km\"].describe()"
   ]
  },
  {
   "cell_type": "markdown",
   "id": "4fe7c299",
   "metadata": {},
   "source": [
    "#### Study of the correlation between price and odometer:"
   ]
  },
  {
   "cell_type": "code",
   "execution_count": 12,
   "id": "c080f79a",
   "metadata": {},
   "outputs": [
    {
     "name": "stdout",
     "output_type": "stream",
     "text": [
      "-0.4186593422709814\n"
     ]
    }
   ],
   "source": [
    "column_1 = autos[\"price\"]\n",
    "column_2 = autos[\"odometer_km\"]\n",
    "correlation = column_1. corr(column_2)\n",
    "print(correlation)"
   ]
  },
  {
   "cell_type": "markdown",
   "id": "5c7512ef",
   "metadata": {},
   "source": [
    "#### This correlation shows that the price increases the odometer decreases, which is correct."
   ]
  },
  {
   "cell_type": "code",
   "execution_count": 13,
   "id": "c6b31c04",
   "metadata": {},
   "outputs": [
    {
     "data": {
      "text/plain": [
       "2016-03-05    2.5%\n",
       "2016-03-06    1.4%\n",
       "2016-03-07    3.6%\n",
       "2016-03-08    3.3%\n",
       "2016-03-09    3.3%\n",
       "2016-03-10    3.2%\n",
       "2016-03-11    3.2%\n",
       "2016-03-12    3.7%\n",
       "2016-03-13    1.6%\n",
       "2016-03-14    3.7%\n",
       "2016-03-15    3.4%\n",
       "2016-03-16    2.9%\n",
       "2016-03-17    3.2%\n",
       "2016-03-18    1.3%\n",
       "2016-03-19    3.5%\n",
       "2016-03-20    3.8%\n",
       "2016-03-21    3.8%\n",
       "2016-03-22    3.3%\n",
       "2016-03-23    3.2%\n",
       "2016-03-24    2.9%\n",
       "2016-03-25    3.2%\n",
       "2016-03-26    3.2%\n",
       "2016-03-27    3.1%\n",
       "2016-03-28    3.5%\n",
       "2016-03-29    3.4%\n",
       "2016-03-30    3.4%\n",
       "2016-03-31    3.2%\n",
       "2016-04-01    3.4%\n",
       "2016-04-02    3.5%\n",
       "2016-04-03    3.9%\n",
       "2016-04-04    3.7%\n",
       "2016-04-05    1.3%\n",
       "2016-04-06    0.3%\n",
       "2016-04-07    0.1%\n",
       "Name: date_crawled, dtype: object"
      ]
     },
     "execution_count": 13,
     "metadata": {},
     "output_type": "execute_result"
    }
   ],
   "source": [
    "# INVESTIGATING THE DATE_CRAWLED COLUMN\n",
    "# .mul(100) is to put the value in percent under 100\n",
    "date_crawled = autos[\"date_crawled\"].str[:10].value_counts(normalize= True, dropna = False).mul(100).round(1).astype(str) + '%'\n",
    "date_crawled.sort_index()"
   ]
  },
  {
   "cell_type": "code",
   "execution_count": 14,
   "id": "66c479b4",
   "metadata": {},
   "outputs": [
    {
     "data": {
      "text/plain": [
       "count    50000.000000\n",
       "mean      2005.073280\n",
       "std        105.712813\n",
       "min       1000.000000\n",
       "25%       1999.000000\n",
       "50%       2003.000000\n",
       "75%       2008.000000\n",
       "max       9999.000000\n",
       "Name: registration_year, dtype: float64"
      ]
     },
     "execution_count": 14,
     "metadata": {},
     "output_type": "execute_result"
    }
   ],
   "source": [
    "autos[\"registration_year\"].describe()"
   ]
  },
  {
   "cell_type": "markdown",
   "id": "810b4607",
   "metadata": {},
   "source": [
    "#### That registration year = 9999 does not make sense. 25% of data is from 1999. Every add created in \"date_crawled\" is from 2016, that is the reason for the maximum date:"
   ]
  },
  {
   "cell_type": "code",
   "execution_count": 15,
   "id": "36f15d01",
   "metadata": {},
   "outputs": [],
   "source": [
    "autos[\"registration_year\"] = autos.loc[autos[\"registration_year\"].between(1999, 2016), \"registration_year\"]"
   ]
  },
  {
   "cell_type": "code",
   "execution_count": 16,
   "id": "414588c6",
   "metadata": {},
   "outputs": [
    {
     "data": {
      "text/plain": [
       "2000.0    9.028021\n",
       "2005.0    8.115529\n",
       "1999.0    8.075153\n",
       "2004.0    7.367231\n",
       "2003.0    7.340314\n",
       "2006.0    7.289171\n",
       "2001.0    7.275713\n",
       "2002.0    6.818121\n",
       "2007.0    6.201717\n",
       "2008.0    6.005222\n",
       "2009.0    5.647223\n",
       "2011.0    4.398267\n",
       "2010.0    4.298673\n",
       "2012.0    3.561142\n",
       "2016.0    3.542300\n",
       "2013.0    2.169524\n",
       "2014.0    1.792684\n",
       "2015.0    1.073995\n",
       "Name: registration_year, dtype: float64"
      ]
     },
     "execution_count": 16,
     "metadata": {},
     "output_type": "execute_result"
    }
   ],
   "source": [
    "autos[\"registration_year\"].value_counts(normalize=True).mul(100)"
   ]
  },
  {
   "cell_type": "markdown",
   "id": "c25e371e",
   "metadata": {},
   "source": [
    "#### The majority adds were registered in 2000."
   ]
  },
  {
   "cell_type": "markdown",
   "id": "59e2ba11",
   "metadata": {},
   "source": [
    "#### Analyze the brands vs price vs mileage"
   ]
  },
  {
   "cell_type": "code",
   "execution_count": 17,
   "id": "ebe44afc",
   "metadata": {},
   "outputs": [
    {
     "data": {
      "text/plain": [
       "volkswagen        10687\n",
       "opel               5461\n",
       "bmw                5429\n",
       "mercedes_benz      4734\n",
       "audi               4283\n",
       "ford               3479\n",
       "renault            2404\n",
       "peugeot            1456\n",
       "fiat               1308\n",
       "seat                941\n",
       "skoda               786\n",
       "mazda               757\n",
       "nissan              754\n",
       "smart               701\n",
       "citroen             701\n",
       "toyota              617\n",
       "sonstige_autos      546\n",
       "hyundai             488\n",
       "volvo               457\n",
       "mini                424\n",
       "mitsubishi          406\n",
       "honda               399\n",
       "kia                 356\n",
       "alfa_romeo          329\n",
       "porsche             294\n",
       "suzuki              293\n",
       "chevrolet           283\n",
       "chrysler            181\n",
       "dacia               129\n",
       "daihatsu            128\n",
       "jeep                110\n",
       "subaru              109\n",
       "land_rover           99\n",
       "saab                 80\n",
       "daewoo               79\n",
       "trabant              78\n",
       "jaguar               77\n",
       "rover                69\n",
       "lancia               57\n",
       "lada                 31\n",
       "Name: brand, dtype: int64"
      ]
     },
     "execution_count": 17,
     "metadata": {},
     "output_type": "execute_result"
    }
   ],
   "source": [
    "autos['brand'].value_counts(dropna=True)"
   ]
  },
  {
   "cell_type": "code",
   "execution_count": 18,
   "id": "7e1b8c95",
   "metadata": {},
   "outputs": [
    {
     "data": {
      "text/plain": [
       "Index(['volkswagen', 'opel', 'bmw', 'mercedes_benz', 'audi', 'ford', 'renault',\n",
       "       'peugeot', 'fiat', 'seat', 'skoda', 'mazda', 'nissan', 'smart',\n",
       "       'citroen', 'toyota', 'sonstige_autos', 'hyundai', 'volvo', 'mini'],\n",
       "      dtype='object')"
      ]
     },
     "execution_count": 18,
     "metadata": {},
     "output_type": "execute_result"
    }
   ],
   "source": [
    "#selecting the top 20 brands  \n",
    "brands_20 = autos['brand'].value_counts().head(20).index\n",
    "brands_20"
   ]
  },
  {
   "cell_type": "code",
   "execution_count": 19,
   "id": "7b9d13a7",
   "metadata": {},
   "outputs": [],
   "source": [
    "brand_price ={}\n",
    "\n",
    "for brand in brands_20:    \n",
    "    mean_price = round(autos.loc[autos[\"brand\"] == brand, \"price\"].mean())\n",
    "    brand_price[brand] = mean_price"
   ]
  },
  {
   "cell_type": "code",
   "execution_count": 20,
   "id": "7ac4187c",
   "metadata": {},
   "outputs": [
    {
     "data": {
      "text/plain": [
       "{'volkswagen': 5955,\n",
       " 'opel': 3548,\n",
       " 'bmw': 8596,\n",
       " 'mercedes_benz': 8811,\n",
       " 'audi': 9702,\n",
       " 'ford': 4572,\n",
       " 'renault': 2965,\n",
       " 'peugeot': 3522,\n",
       " 'fiat': 3421,\n",
       " 'seat': 4874,\n",
       " 'skoda': 6636,\n",
       " 'mazda': 4665,\n",
       " 'nissan': 5446,\n",
       " 'smart': 3583,\n",
       " 'citroen': 4145,\n",
       " 'toyota': 5308,\n",
       " 'sonstige_autos': 12860,\n",
       " 'hyundai': 5859,\n",
       " 'volvo': 5477,\n",
       " 'mini': 10617}"
      ]
     },
     "execution_count": 20,
     "metadata": {},
     "output_type": "execute_result"
    }
   ],
   "source": [
    "brand_price"
   ]
  },
  {
   "cell_type": "code",
   "execution_count": 21,
   "id": "80bf31f3",
   "metadata": {},
   "outputs": [],
   "source": [
    "brand_mileage = {}\n",
    "\n",
    "for brand in brands_20:    \n",
    "    mean_mileage = round(autos.loc[autos[\"brand\"] == brand, \"odometer_km\"].mean())\n",
    "    brand_mileage[brand] = mean_mileage"
   ]
  },
  {
   "cell_type": "code",
   "execution_count": 22,
   "id": "108cfe28",
   "metadata": {},
   "outputs": [
    {
     "data": {
      "text/plain": [
       "{'volkswagen': 128955,\n",
       " 'opel': 129299,\n",
       " 'bmw': 132522,\n",
       " 'mercedes_benz': 130886,\n",
       " 'audi': 129644,\n",
       " 'ford': 124132,\n",
       " 'renault': 128224,\n",
       " 'peugeot': 127352,\n",
       " 'fiat': 117037,\n",
       " 'seat': 122062,\n",
       " 'skoda': 110948,\n",
       " 'mazda': 125132,\n",
       " 'nissan': 118979,\n",
       " 'smart': 100756,\n",
       " 'citroen': 119765,\n",
       " 'toyota': 115989,\n",
       " 'sonstige_autos': 87189,\n",
       " 'hyundai': 106783,\n",
       " 'volvo': 138632,\n",
       " 'mini': 89375}"
      ]
     },
     "execution_count": 22,
     "metadata": {},
     "output_type": "execute_result"
    }
   ],
   "source": [
    "brand_mileage"
   ]
  },
  {
   "cell_type": "markdown",
   "id": "16124a5f",
   "metadata": {},
   "source": [
    "#### Create pandas series from price and mileage dictionaries:"
   ]
  },
  {
   "cell_type": "code",
   "execution_count": 23,
   "id": "10287e24",
   "metadata": {},
   "outputs": [
    {
     "data": {
      "text/plain": [
       "volkswagen         5955\n",
       "opel               3548\n",
       "bmw                8596\n",
       "mercedes_benz      8811\n",
       "audi               9702\n",
       "ford               4572\n",
       "renault            2965\n",
       "peugeot            3522\n",
       "fiat               3421\n",
       "seat               4874\n",
       "skoda              6636\n",
       "mazda              4665\n",
       "nissan             5446\n",
       "smart              3583\n",
       "citroen            4145\n",
       "toyota             5308\n",
       "sonstige_autos    12860\n",
       "hyundai            5859\n",
       "volvo              5477\n",
       "mini              10617\n",
       "dtype: int64"
      ]
     },
     "execution_count": 23,
     "metadata": {},
     "output_type": "execute_result"
    }
   ],
   "source": [
    "brand_price_series = pd.Series(brand_price)\n",
    "brand_price_series"
   ]
  },
  {
   "cell_type": "code",
   "execution_count": 24,
   "id": "eceef58e",
   "metadata": {},
   "outputs": [
    {
     "data": {
      "text/plain": [
       "volkswagen        128955\n",
       "opel              129299\n",
       "bmw               132522\n",
       "mercedes_benz     130886\n",
       "audi              129644\n",
       "ford              124132\n",
       "renault           128224\n",
       "peugeot           127352\n",
       "fiat              117037\n",
       "seat              122062\n",
       "skoda             110948\n",
       "mazda             125132\n",
       "nissan            118979\n",
       "smart             100756\n",
       "citroen           119765\n",
       "toyota            115989\n",
       "sonstige_autos     87189\n",
       "hyundai           106783\n",
       "volvo             138632\n",
       "mini               89375\n",
       "dtype: int64"
      ]
     },
     "execution_count": 24,
     "metadata": {},
     "output_type": "execute_result"
    }
   ],
   "source": [
    "brand_mileage_series = pd.Series(brand_mileage)\n",
    "brand_mileage_series"
   ]
  },
  {
   "cell_type": "markdown",
   "id": "5a282169",
   "metadata": {},
   "source": [
    "#### Create a dataframe from price and mileage series:"
   ]
  },
  {
   "cell_type": "code",
   "execution_count": 25,
   "id": "81fe9619",
   "metadata": {},
   "outputs": [],
   "source": [
    "price_df = pd.DataFrame(brand_price_series, columns=['mean_price'])"
   ]
  },
  {
   "cell_type": "code",
   "execution_count": 26,
   "id": "688283b8",
   "metadata": {},
   "outputs": [],
   "source": [
    "price_df[\"mean_mileage\"] = brand_mileage_series "
   ]
  },
  {
   "cell_type": "markdown",
   "id": "9faf611e",
   "metadata": {},
   "source": [
    "#### Analyze both mean price and mean mileage in one dataframe:"
   ]
  },
  {
   "cell_type": "code",
   "execution_count": 32,
   "id": "d34eff8c",
   "metadata": {},
   "outputs": [],
   "source": [
    "df = price_df.sort_values(\"mean_mileage\")"
   ]
  },
  {
   "cell_type": "code",
   "execution_count": 33,
   "id": "5c275f60",
   "metadata": {},
   "outputs": [
    {
     "name": "stdout",
     "output_type": "stream",
     "text": [
      "                mean_price  mean_mileage\n",
      "sonstige_autos       12860         87189\n",
      "mini                 10617         89375\n",
      "smart                 3583        100756\n",
      "hyundai               5859        106783\n",
      "skoda                 6636        110948\n",
      "toyota                5308        115989\n",
      "fiat                  3421        117037\n",
      "nissan                5446        118979\n",
      "citroen               4145        119765\n",
      "seat                  4874        122062\n",
      "ford                  4572        124132\n",
      "mazda                 4665        125132\n",
      "peugeot               3522        127352\n",
      "renault               2965        128224\n",
      "volkswagen            5955        128955\n",
      "opel                  3548        129299\n",
      "audi                  9702        129644\n",
      "mercedes_benz         8811        130886\n",
      "bmw                   8596        132522\n",
      "volvo                 5477        138632\n"
     ]
    }
   ],
   "source": [
    "print(df)"
   ]
  },
  {
   "cell_type": "code",
   "execution_count": 36,
   "id": "cffa98d2",
   "metadata": {},
   "outputs": [],
   "source": [
    "df[\"diff\"] = df[\"mean_mileage\"] - df[\"mean_price\"]"
   ]
  },
  {
   "cell_type": "code",
   "execution_count": 37,
   "id": "41cdb077",
   "metadata": {},
   "outputs": [
    {
     "name": "stdout",
     "output_type": "stream",
     "text": [
      "                mean_price  mean_mileage    diff\n",
      "sonstige_autos       12860         87189   74329\n",
      "mini                 10617         89375   78758\n",
      "smart                 3583        100756   97173\n",
      "hyundai               5859        106783  100924\n",
      "skoda                 6636        110948  104312\n",
      "toyota                5308        115989  110681\n",
      "fiat                  3421        117037  113616\n",
      "nissan                5446        118979  113533\n",
      "citroen               4145        119765  115620\n",
      "seat                  4874        122062  117188\n",
      "ford                  4572        124132  119560\n",
      "mazda                 4665        125132  120467\n",
      "peugeot               3522        127352  123830\n",
      "renault               2965        128224  125259\n",
      "volkswagen            5955        128955  123000\n",
      "opel                  3548        129299  125751\n",
      "audi                  9702        129644  119942\n",
      "mercedes_benz         8811        130886  122075\n",
      "bmw                   8596        132522  123926\n",
      "volvo                 5477        138632  133155\n"
     ]
    }
   ],
   "source": [
    "print(df)"
   ]
  },
  {
   "cell_type": "markdown",
   "id": "83f7296c",
   "metadata": {},
   "source": [
    "#### It is logical that with higher mean price there is a lower mileage. Although, if we compare smart with 3.583 mean price\n",
    "#### and 100.756 mileage, should have a higher price than the next model that is hyundai with 5.859 mean price and 106.783 mileage.\n",
    "#### There are more columns in this dataset that can explain this difference like vehicle type, gearbox and unrepaired damage."
   ]
  },
  {
   "cell_type": "code",
   "execution_count": null,
   "id": "aeb87066",
   "metadata": {},
   "outputs": [],
   "source": []
  }
 ],
 "metadata": {
  "kernelspec": {
   "display_name": "Python 3 (ipykernel)",
   "language": "python",
   "name": "python3"
  },
  "language_info": {
   "codemirror_mode": {
    "name": "ipython",
    "version": 3
   },
   "file_extension": ".py",
   "mimetype": "text/x-python",
   "name": "python",
   "nbconvert_exporter": "python",
   "pygments_lexer": "ipython3",
   "version": "3.9.7"
  }
 },
 "nbformat": 4,
 "nbformat_minor": 5
}
